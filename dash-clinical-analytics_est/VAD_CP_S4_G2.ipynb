{
  "cells": [
    {
      "cell_type": "code",
      "execution_count": 2,
      "metadata": {
        "id": "cu4h1FLX1Z5-"
      },
      "outputs": [],
      "source": [
        "import pandas as pd\n",
        "import matplotlib.pyplot as plt\n",
        "from dash import Dash, dcc, html, Input, Output, callback, ctx\n",
        "import plotly.express as px\n",
        "import numpy as np\n",
        "import pandas as pd\n",
        "import datetime\n",
        "import json\n",
        "from datetime import datetime as dt\n",
        "import pathlib\n",
        "import plotly.graph_objects as go \n",
        "import plotly.io as pio\n",
        "import dash_bootstrap_components as dbc\n",
        "\n",
        "import plotly.express as px\n"
      ]
    },
    {
      "cell_type": "code",
      "execution_count": 3,
      "metadata": {},
      "outputs": [],
      "source": [
        "#!pip3 install nbformat"
      ]
    },
    {
      "cell_type": "markdown",
      "metadata": {},
      "source": [
        "# TRABAJO FINAL\n",
        "## Historia\n",
        "\n",
        "El Dasboard que se presenta corresponde al Total de Ventas y Compras del 2024 obtenidas del registro de Dato Abierto del SRI\n",
        "\n",
        "**Fuente:** SRI - Dato abierto\n",
        "**Conjunto de datos:** compra y ventas 2024\n",
        "\n",
        "### Tratamiento de la información:\n",
        "\n",
        "    1.⁠ ⁠Eliminación de registros con código de actividad diferente a letras (9 registros)\n",
        "    2.⁠ ⁠Eliminación de registros cuya provincia sea ND (1 registro)\n",
        "    3.⁠ ⁠Creación de las columnas de:\n",
        "    a. Descripción actividad económica\n",
        "    b. Latitud y Longitud de los cantones del Ecuador\n",
        "    c. Población del cantón\n",
        "    d. Calculo de total de ventas y total de compras\n",
        "    e. Impuesto generado 12% (enero a marzo)\n",
        "    f. Impuesto generado 15% (abril a julio)\n",
        "\n",
        "### Dashboard:\n",
        "\n",
        "    1.⁠ ⁠Se organiza el Dashboard por región del Ecuador; un tab por región\n",
        "    2.⁠ ⁠Los filtros identificados son mes y actividad económica a nivel 1\n",
        "    3.⁠ ⁠Muestra el mapa del Ecuador y en cada región resalta sus provincias \n",
        "    4.⁠ ⁠En los gráficos de barras se observa el Total de ventas y compras para tarifa 0 y tarifa gravada IVA por Cantón en el mes seleccionado.\n",
        "    4.⁠ ⁠Finalmente muestra el total de impuesto generado por compras y ventas para los cantones de la región en la que se encuentre ubicado.\n",
        "\n",
        "### Conclusión\n",
        "\n",
        "En el trabajo práctico se han aplicado todos los conceptos vistos en la materia de Visualización avanzada para Data Science, desde las graficas estáticas hasta la construcción de un Dashboard que cuente una historia fácil de entender.\n",
        "Para el grupo ha sido un reto poder cumplir y entender todos los conceptos vistos y aplicarlos de manera práctica con datos reales.\n"
      ]
    },
    {
      "cell_type": "code",
      "execution_count": 4,
      "metadata": {
        "id": "GEn0EgTy2U8F"
      },
      "outputs": [],
      "source": [
        "df = pd.read_csv('../dash-clinical-analytics_est/sri_ventas_2024.csv', encoding='latin-1', sep='|')"
      ]
    },
    {
      "cell_type": "code",
      "execution_count": 5,
      "metadata": {
        "id": "fEqoFwIaB0Ik"
      },
      "outputs": [],
      "source": [
        "numericas = [\n",
        "    'VENTAS_NETAS_TARIFA_12',\n",
        "    'VENTAS_NETAS_TARIFA_0',\n",
        "    'EXPORTACIONES',\n",
        "    'COMPRAS_NETAS_TARIFA_12',\n",
        "    'COMPRAS_NETAS_TARIFA_0',\n",
        "    'IMPORTACIONES',\n",
        "    'COMPRAS_RISE',\n",
        "    'TOTAL_COMPRAS',\n",
        "    'TOTAL_VENTAS'\n",
        "]\n",
        "\n",
        "for col in numericas:\n",
        "    df[col] = df[col].replace({'': '0'})  # Reemplazar cadenas vacías por '0'\n",
        "    df[col] = df[col].str.replace(',', '.').astype(float)\n"
      ]
    },
    {
      "cell_type": "code",
      "execution_count": 6,
      "metadata": {
        "id": "BAsNrC-F4xO-"
      },
      "outputs": [],
      "source": [
        "df = df[~df['CODIGO_SECTOR_N1'].isin(['V', 'X', 'W', '9'])]\n",
        "df = df[df['PROVINCIA'] != 'ND']\n",
        "df = df.drop(['TOTAL_COMPRAS', 'TOTAL_VENTAS'], axis=1)\n",
        "df['TOTAL_COMPRAS'] = df['COMPRAS_NETAS_TARIFA_12'] + df['COMPRAS_NETAS_TARIFA_0'] + df['IMPORTACIONES'] + df['COMPRAS_RISE']\n",
        "df['TOTAL_VENTAS'] = df['VENTAS_NETAS_TARIFA_12'] + df['VENTAS_NETAS_TARIFA_0'] + df['EXPORTACIONES']\n",
        "\n",
        "#Bases\n",
        "df['BASE_IMPONIBLE_VENTAS'] = df.apply(\n",
        "    lambda row: row['VENTAS_NETAS_TARIFA_12'] / 1.12 if row['MES'] in [1, 2, 3] else\n",
        "                 row['VENTAS_NETAS_TARIFA_12'] / 1.15,\n",
        "    axis=1\n",
        ")\n",
        "\n",
        "df['IMPUESTO_VENTAS'] = df['VENTAS_NETAS_TARIFA_12'] - df['BASE_IMPONIBLE_VENTAS']\n",
        "\n",
        "#Bases\n",
        "df['BASE_IMPONIBLE_COMPRAS'] = df.apply(\n",
        "    lambda row: row['COMPRAS_NETAS_TARIFA_12'] / 1.12 if row['MES'] in [1, 2, 3] else\n",
        "                 row['COMPRAS_NETAS_TARIFA_12'] / 1.15,\n",
        "    axis=1\n",
        ")\n",
        "\n",
        "df['IMPUESTO_COMPRAS'] = df['COMPRAS_NETAS_TARIFA_12'] - df['BASE_IMPONIBLE_COMPRAS']"
      ]
    },
    {
      "cell_type": "code",
      "execution_count": 7,
      "metadata": {
        "colab": {
          "base_uri": "https://localhost:8080/",
          "height": 383
        },
        "id": "0PA9nE3s2grK",
        "outputId": "b9d39e61-8c36-4fa5-ff94-1f705bf77708"
      },
      "outputs": [
        {
          "data": {
            "text/html": [
              "<div>\n",
              "<style scoped>\n",
              "    .dataframe tbody tr th:only-of-type {\n",
              "        vertical-align: middle;\n",
              "    }\n",
              "\n",
              "    .dataframe tbody tr th {\n",
              "        vertical-align: top;\n",
              "    }\n",
              "\n",
              "    .dataframe thead th {\n",
              "        text-align: right;\n",
              "    }\n",
              "</style>\n",
              "<table border=\"1\" class=\"dataframe\">\n",
              "  <thead>\n",
              "    <tr style=\"text-align: right;\">\n",
              "      <th></th>\n",
              "      <th>AÑO</th>\n",
              "      <th>MES</th>\n",
              "      <th>CODIGO_SECTOR_N1</th>\n",
              "      <th>PROVINCIA</th>\n",
              "      <th>CANTON</th>\n",
              "      <th>VENTAS_NETAS_TARIFA_12</th>\n",
              "      <th>VENTAS_NETAS_TARIFA_0</th>\n",
              "      <th>EXPORTACIONES</th>\n",
              "      <th>COMPRAS_NETAS_TARIFA_12</th>\n",
              "      <th>COMPRAS_NETAS_TARIFA_0</th>\n",
              "      <th>IMPORTACIONES</th>\n",
              "      <th>COMPRAS_RISE</th>\n",
              "      <th>TOTAL_COMPRAS</th>\n",
              "      <th>TOTAL_VENTAS</th>\n",
              "      <th>BASE_IMPONIBLE_VENTAS</th>\n",
              "      <th>IMPUESTO_VENTAS</th>\n",
              "      <th>BASE_IMPONIBLE_COMPRAS</th>\n",
              "      <th>IMPUESTO_COMPRAS</th>\n",
              "    </tr>\n",
              "  </thead>\n",
              "  <tbody>\n",
              "    <tr>\n",
              "      <th>0</th>\n",
              "      <td>2024</td>\n",
              "      <td>1</td>\n",
              "      <td>G</td>\n",
              "      <td>GALAPAGOS</td>\n",
              "      <td>ISABELA</td>\n",
              "      <td>116567.25</td>\n",
              "      <td>94589.94</td>\n",
              "      <td>0.00</td>\n",
              "      <td>203759.54</td>\n",
              "      <td>80978.61</td>\n",
              "      <td>0.00</td>\n",
              "      <td>720.00</td>\n",
              "      <td>2.854582e+05</td>\n",
              "      <td>2.111572e+05</td>\n",
              "      <td>1.040779e+05</td>\n",
              "      <td>1.248935e+04</td>\n",
              "      <td>1.819282e+05</td>\n",
              "      <td>2.183138e+04</td>\n",
              "    </tr>\n",
              "    <tr>\n",
              "      <th>1</th>\n",
              "      <td>2024</td>\n",
              "      <td>1</td>\n",
              "      <td>S</td>\n",
              "      <td>MANABI</td>\n",
              "      <td>PORTOVIEJO</td>\n",
              "      <td>840182.10</td>\n",
              "      <td>1432183.33</td>\n",
              "      <td>0.00</td>\n",
              "      <td>969367.30</td>\n",
              "      <td>876986.80</td>\n",
              "      <td>2888.98</td>\n",
              "      <td>64608.48</td>\n",
              "      <td>1.913852e+06</td>\n",
              "      <td>2.272365e+06</td>\n",
              "      <td>7.501626e+05</td>\n",
              "      <td>9.001951e+04</td>\n",
              "      <td>8.655065e+05</td>\n",
              "      <td>1.038608e+05</td>\n",
              "    </tr>\n",
              "    <tr>\n",
              "      <th>2</th>\n",
              "      <td>2024</td>\n",
              "      <td>1</td>\n",
              "      <td>Q</td>\n",
              "      <td>EL ORO</td>\n",
              "      <td>EL GUABO</td>\n",
              "      <td>674.34</td>\n",
              "      <td>37748.72</td>\n",
              "      <td>0.00</td>\n",
              "      <td>26912.00</td>\n",
              "      <td>41877.56</td>\n",
              "      <td>0.00</td>\n",
              "      <td>710.05</td>\n",
              "      <td>6.949961e+04</td>\n",
              "      <td>3.842306e+04</td>\n",
              "      <td>6.020893e+02</td>\n",
              "      <td>7.225071e+01</td>\n",
              "      <td>2.402857e+04</td>\n",
              "      <td>2.883429e+03</td>\n",
              "    </tr>\n",
              "    <tr>\n",
              "      <th>3</th>\n",
              "      <td>2024</td>\n",
              "      <td>2</td>\n",
              "      <td>M</td>\n",
              "      <td>CARCHI</td>\n",
              "      <td>MIRA</td>\n",
              "      <td>24522.42</td>\n",
              "      <td>3243.59</td>\n",
              "      <td>0.00</td>\n",
              "      <td>22825.50</td>\n",
              "      <td>2524.46</td>\n",
              "      <td>0.00</td>\n",
              "      <td>0.00</td>\n",
              "      <td>2.534996e+04</td>\n",
              "      <td>2.776601e+04</td>\n",
              "      <td>2.189502e+04</td>\n",
              "      <td>2.627402e+03</td>\n",
              "      <td>2.037991e+04</td>\n",
              "      <td>2.445589e+03</td>\n",
              "    </tr>\n",
              "    <tr>\n",
              "      <th>4</th>\n",
              "      <td>2024</td>\n",
              "      <td>2</td>\n",
              "      <td>F</td>\n",
              "      <td>LOJA</td>\n",
              "      <td>MACARA</td>\n",
              "      <td>926.04</td>\n",
              "      <td>0.00</td>\n",
              "      <td>0.00</td>\n",
              "      <td>10512.41</td>\n",
              "      <td>128.03</td>\n",
              "      <td>0.00</td>\n",
              "      <td>0.00</td>\n",
              "      <td>1.064044e+04</td>\n",
              "      <td>9.260400e+02</td>\n",
              "      <td>8.268214e+02</td>\n",
              "      <td>9.921857e+01</td>\n",
              "      <td>9.386080e+03</td>\n",
              "      <td>1.126330e+03</td>\n",
              "    </tr>\n",
              "    <tr>\n",
              "      <th>5</th>\n",
              "      <td>2024</td>\n",
              "      <td>2</td>\n",
              "      <td>G</td>\n",
              "      <td>GUAYAS</td>\n",
              "      <td>MILAGRO</td>\n",
              "      <td>13924559.70</td>\n",
              "      <td>25750620.77</td>\n",
              "      <td>1741475.36</td>\n",
              "      <td>13179228.89</td>\n",
              "      <td>12931019.79</td>\n",
              "      <td>322658.55</td>\n",
              "      <td>123519.55</td>\n",
              "      <td>2.655643e+07</td>\n",
              "      <td>4.141666e+07</td>\n",
              "      <td>1.243264e+07</td>\n",
              "      <td>1.491917e+06</td>\n",
              "      <td>1.176717e+07</td>\n",
              "      <td>1.412060e+06</td>\n",
              "    </tr>\n",
              "    <tr>\n",
              "      <th>6</th>\n",
              "      <td>2024</td>\n",
              "      <td>2</td>\n",
              "      <td>G</td>\n",
              "      <td>GUAYAS</td>\n",
              "      <td>DURAN</td>\n",
              "      <td>28652576.29</td>\n",
              "      <td>44141066.17</td>\n",
              "      <td>74266406.41</td>\n",
              "      <td>23825339.53</td>\n",
              "      <td>87879591.82</td>\n",
              "      <td>24186302.13</td>\n",
              "      <td>556309.01</td>\n",
              "      <td>1.364475e+08</td>\n",
              "      <td>1.470600e+08</td>\n",
              "      <td>2.558266e+07</td>\n",
              "      <td>3.069919e+06</td>\n",
              "      <td>2.127262e+07</td>\n",
              "      <td>2.552715e+06</td>\n",
              "    </tr>\n",
              "    <tr>\n",
              "      <th>7</th>\n",
              "      <td>2024</td>\n",
              "      <td>2</td>\n",
              "      <td>M</td>\n",
              "      <td>AZUAY</td>\n",
              "      <td>CUENCA</td>\n",
              "      <td>24373567.71</td>\n",
              "      <td>2263487.12</td>\n",
              "      <td>349921.59</td>\n",
              "      <td>12959129.93</td>\n",
              "      <td>2166199.07</td>\n",
              "      <td>476383.77</td>\n",
              "      <td>402186.54</td>\n",
              "      <td>1.600390e+07</td>\n",
              "      <td>2.698698e+07</td>\n",
              "      <td>2.176211e+07</td>\n",
              "      <td>2.611454e+06</td>\n",
              "      <td>1.157065e+07</td>\n",
              "      <td>1.388478e+06</td>\n",
              "    </tr>\n",
              "    <tr>\n",
              "      <th>8</th>\n",
              "      <td>2024</td>\n",
              "      <td>2</td>\n",
              "      <td>I</td>\n",
              "      <td>GUAYAS</td>\n",
              "      <td>GUAYAQUIL</td>\n",
              "      <td>45894639.89</td>\n",
              "      <td>4424483.28</td>\n",
              "      <td>102999.24</td>\n",
              "      <td>21477517.07</td>\n",
              "      <td>11489529.00</td>\n",
              "      <td>731733.62</td>\n",
              "      <td>737209.61</td>\n",
              "      <td>3.443599e+07</td>\n",
              "      <td>5.042212e+07</td>\n",
              "      <td>4.097736e+07</td>\n",
              "      <td>4.917283e+06</td>\n",
              "      <td>1.917635e+07</td>\n",
              "      <td>2.301163e+06</td>\n",
              "    </tr>\n",
              "    <tr>\n",
              "      <th>9</th>\n",
              "      <td>2024</td>\n",
              "      <td>1</td>\n",
              "      <td>S</td>\n",
              "      <td>GUAYAS</td>\n",
              "      <td>EL EMPALME</td>\n",
              "      <td>37568.55</td>\n",
              "      <td>157517.61</td>\n",
              "      <td>0.00</td>\n",
              "      <td>43366.34</td>\n",
              "      <td>96104.38</td>\n",
              "      <td>22.85</td>\n",
              "      <td>640.30</td>\n",
              "      <td>1.401339e+05</td>\n",
              "      <td>1.950862e+05</td>\n",
              "      <td>3.354335e+04</td>\n",
              "      <td>4.025202e+03</td>\n",
              "      <td>3.871995e+04</td>\n",
              "      <td>4.646394e+03</td>\n",
              "    </tr>\n",
              "  </tbody>\n",
              "</table>\n",
              "</div>"
            ],
            "text/plain": [
              "    AÑO  MES CODIGO_SECTOR_N1  PROVINCIA      CANTON  VENTAS_NETAS_TARIFA_12  \\\n",
              "0  2024    1                G  GALAPAGOS     ISABELA               116567.25   \n",
              "1  2024    1                S     MANABI  PORTOVIEJO               840182.10   \n",
              "2  2024    1                Q     EL ORO    EL GUABO                  674.34   \n",
              "3  2024    2                M     CARCHI        MIRA                24522.42   \n",
              "4  2024    2                F       LOJA      MACARA                  926.04   \n",
              "5  2024    2                G     GUAYAS     MILAGRO             13924559.70   \n",
              "6  2024    2                G     GUAYAS       DURAN             28652576.29   \n",
              "7  2024    2                M      AZUAY      CUENCA             24373567.71   \n",
              "8  2024    2                I     GUAYAS   GUAYAQUIL             45894639.89   \n",
              "9  2024    1                S     GUAYAS  EL EMPALME                37568.55   \n",
              "\n",
              "   VENTAS_NETAS_TARIFA_0  EXPORTACIONES  COMPRAS_NETAS_TARIFA_12  \\\n",
              "0               94589.94           0.00                203759.54   \n",
              "1             1432183.33           0.00                969367.30   \n",
              "2               37748.72           0.00                 26912.00   \n",
              "3                3243.59           0.00                 22825.50   \n",
              "4                   0.00           0.00                 10512.41   \n",
              "5            25750620.77     1741475.36              13179228.89   \n",
              "6            44141066.17    74266406.41              23825339.53   \n",
              "7             2263487.12      349921.59              12959129.93   \n",
              "8             4424483.28      102999.24              21477517.07   \n",
              "9              157517.61           0.00                 43366.34   \n",
              "\n",
              "   COMPRAS_NETAS_TARIFA_0  IMPORTACIONES  COMPRAS_RISE  TOTAL_COMPRAS  \\\n",
              "0                80978.61           0.00        720.00   2.854582e+05   \n",
              "1               876986.80        2888.98      64608.48   1.913852e+06   \n",
              "2                41877.56           0.00        710.05   6.949961e+04   \n",
              "3                 2524.46           0.00          0.00   2.534996e+04   \n",
              "4                  128.03           0.00          0.00   1.064044e+04   \n",
              "5             12931019.79      322658.55     123519.55   2.655643e+07   \n",
              "6             87879591.82    24186302.13     556309.01   1.364475e+08   \n",
              "7              2166199.07      476383.77     402186.54   1.600390e+07   \n",
              "8             11489529.00      731733.62     737209.61   3.443599e+07   \n",
              "9                96104.38          22.85        640.30   1.401339e+05   \n",
              "\n",
              "   TOTAL_VENTAS  BASE_IMPONIBLE_VENTAS  IMPUESTO_VENTAS  \\\n",
              "0  2.111572e+05           1.040779e+05     1.248935e+04   \n",
              "1  2.272365e+06           7.501626e+05     9.001951e+04   \n",
              "2  3.842306e+04           6.020893e+02     7.225071e+01   \n",
              "3  2.776601e+04           2.189502e+04     2.627402e+03   \n",
              "4  9.260400e+02           8.268214e+02     9.921857e+01   \n",
              "5  4.141666e+07           1.243264e+07     1.491917e+06   \n",
              "6  1.470600e+08           2.558266e+07     3.069919e+06   \n",
              "7  2.698698e+07           2.176211e+07     2.611454e+06   \n",
              "8  5.042212e+07           4.097736e+07     4.917283e+06   \n",
              "9  1.950862e+05           3.354335e+04     4.025202e+03   \n",
              "\n",
              "   BASE_IMPONIBLE_COMPRAS  IMPUESTO_COMPRAS  \n",
              "0            1.819282e+05      2.183138e+04  \n",
              "1            8.655065e+05      1.038608e+05  \n",
              "2            2.402857e+04      2.883429e+03  \n",
              "3            2.037991e+04      2.445589e+03  \n",
              "4            9.386080e+03      1.126330e+03  \n",
              "5            1.176717e+07      1.412060e+06  \n",
              "6            2.127262e+07      2.552715e+06  \n",
              "7            1.157065e+07      1.388478e+06  \n",
              "8            1.917635e+07      2.301163e+06  \n",
              "9            3.871995e+04      4.646394e+03  "
            ]
          },
          "execution_count": 7,
          "metadata": {},
          "output_type": "execute_result"
        }
      ],
      "source": [
        "df.head(10)"
      ]
    },
    {
      "cell_type": "code",
      "execution_count": 8,
      "metadata": {
        "id": "NmhNu0Gt2iOj"
      },
      "outputs": [],
      "source": [
        "provincias = {\n",
        "    'AZUAY': 1, 'BOLIVAR': 2, 'CAÑAR': 3, 'CARCHI': 4, 'CHIMBORAZO': 5,\n",
        "    'COTOPAXI': 6, 'EL ORO': 7, 'ESMERALDAS': 8, 'GALAPAGOS': 9,\n",
        "    'GUAYAS': 10, 'IMBABURA': 11, 'LOJA': 12, 'LOS RIOS': 13,\n",
        "    'MANABI': 14, 'MORONA SANTIAGO': 15, 'NAPO': 16, 'ORELLANA': 17,\n",
        "    'PASTAZA': 18, 'PICHINCHA': 19, 'SANTA ELENA': 20,\n",
        "    'SANTO DOMINGO DE LOS TSACHILAS': 21, 'SUCUMBIOS': 22,\n",
        "    'TUNGURAHUA': 23, 'ZAMORA CHINCHIPE': 24\n",
        "}\n",
        "\n",
        "df['COD_PROVINCIA'] = df['PROVINCIA'].map(provincias).astype(int)"
      ]
    },
    {
      "cell_type": "code",
      "execution_count": 9,
      "metadata": {
        "id": "d4h23XeG5Pae"
      },
      "outputs": [],
      "source": [
        "capitales = {\n",
        "    \"provincia\": [\"Azuay\", \"Bolivar\", \"Cañar\", \"Carchi\", \"Chimborazo\",\n",
        "                  \"Cotopaxi\", \"El Oro\", \"Esmeraldas\", \"Galapagos\",\n",
        "                  \"Guayas\", \"Imbabura\", \"Loja\", \"Los Rios\", \"Manabi\",\n",
        "                  \"Morona Santiago\", \"Napo\", \"Orellana\", \"Pastaza\",\n",
        "                  \"Pichincha\", \"Santa Elena\", \"Santo Domingo de los Tsachilas\",\n",
        "                  \"Sucumbios\", \"Tungurahua\", \"Zamora Chinchipe\"],\n",
        "    \"codigoProv\": [1, 2, 3, 4, 5, 6, 7, 8, 9, 10,\n",
        "                   11, 12, 13, 14, 15, 16, 17, 18,\n",
        "                   19, 20, 21, 22, 23, 24],\n",
        "    \"longitud\": [-79.0045300, -79.0009800, -78.8486000, -77.7172700, -78.6471200,\n",
        "                 -78.6155400, -79.9605300, -79.6539700, -89.608586,\n",
        "                 -79.9079500, -78.1223300, -79.2042200, -79.5344300,\n",
        "                 -80.4544500, -78.1113500, -77.8128600, -75.666667,\n",
        "                 -78.0025700, -78.5249500, -80.8587300, -79.1753600,\n",
        "                 -76.883333, -78.6167500, -78.9469500],\n",
        "    \"latitud\": [-2.9005500, -1.5926300, -2.7396900, 0.8118700, -1.6709800,\n",
        "                -0.9352100, -3.2586100, 0.9592000, -0.902486,\n",
        "                -2.2058400, 0.3517100, -3.9931300, -1.8021700,\n",
        "                -1.0545800, -2.3086800, -0.9938000, -0.933333,\n",
        "                -1.4836900, -0.2298500, -2.2262200, -0.2530500,\n",
        "                -0.083333, -1.2490800, -4.0692100],\n",
        "    \"habitantes\": [\"712127\", \"183641\", \"225184\", \"164524\", \"458581\",\n",
        "               \"409205\", \"600659\", \"534092\", \"25124\",\n",
        "               \"3645483\", \"398244\", \"448966\", \"778115\",\n",
        "               \"1369780\", \"147940\", \"103697\", \"136396\",\n",
        "               \"83933\", \"2576287\", \"308693\", \"368013\",\n",
        "               \"176472\", \"504583\", \"91376\"],\n",
        "    \"region\": [\"Sierra\", \"Sierra\", \"Sierra\", \"Sierra\", \"Sierra\",\n",
        "               \"Sierra\", \"Costa\", \"Costa\", \"Costa\",\n",
        "               \"Costa\", \"Sierra\", \"Sierra\", \"Costa\",\n",
        "               \"Costa\", \"Amazonía\", \"Amazonía\", \"Amazonía\",\n",
        "               \"Amazonía\", \"Sierra\", \"Costa\",\n",
        "               \"Sierra\", \"Amazonía\", \"Sierra\", \"Amazonía\"]\n",
        "}\n",
        "\n",
        "dfCapitales = pd.DataFrame(capitales)"
      ]
    },
    {
      "cell_type": "code",
      "execution_count": 10,
      "metadata": {
        "id": "ldbbtPQC5PWs"
      },
      "outputs": [],
      "source": [
        "actividades = {\n",
        "    'codigoActividad': ['A', 'B', 'C', 'D', 'E', 'F', 'G', 'H', 'I', 'J',\n",
        "               'K', 'L', 'M', 'N', 'O', 'P', 'Q', 'R', 'S', 'T', 'U'],\n",
        "    'descripcion': [\n",
        "        'AGRICULTURA, GANADERÍA, SILVICULTURA Y PESCA.',\n",
        "        'EXPLOTACIÓN DE MINAS Y CANTERAS.',\n",
        "        'INDUSTRIAS MANUFACTURERAS.',\n",
        "        'SUMINISTRO DE ELECTRICIDAD, GAS, VAPOR Y AIRE ACONDICIONADO.',\n",
        "        'DISTRIBUCIÓN DE AGUA; ALCANTARILLADO, GESTIÓN DE DESECHOS Y ACTIVIDADES DE SANEAMIENTO.',\n",
        "        'CONSTRUCCIÓN.',\n",
        "        'COMERCIO AL POR MAYOR Y AL POR MENOR; REPARACIÓN DE VEHÍCULOS AUTOMOTORES Y MOTOCICLETAS.',\n",
        "        'TRANSPORTE Y ALMACENAMIENTO.',\n",
        "        'ACTIVIDADES DE ALOJAMIENTO Y DE SERVICIO DE COMIDAS.',\n",
        "        'INFORMACIÓN Y COMUNICACIÓN.',\n",
        "        'ACTIVIDADES FINANCIERAS Y DE SEGUROS.',\n",
        "        'ACTIVIDADES INMOBILIARIAS.',\n",
        "        'ACTIVIDADES PROFESIONALES, CIENTÍFICAS Y TÉCNICAS.',\n",
        "        'ACTIVIDADES DE SERVICIOS ADMINISTRATIVOS Y DE APOYO.',\n",
        "        'ADMINISTRACIÓN PÚBLICA Y DEFENSA; PLANES DE SEGURIDAD SOCIAL DE AFILIACIÓN OBLIGATORIA.',\n",
        "        'ENSEÑANZA.',\n",
        "        'ACTIVIDADES DE ATENCIÓN DE LA SALUD HUMANA Y DE ASISTENCIA SOCIAL.',\n",
        "        'ARTES, ENTRETENIMIENTO Y RECREACIÓN.',\n",
        "        'OTRAS ACTIVIDADES DE SERVICIOS.',\n",
        "        'ACTIVIDADES DE LOS HOGARES COMO EMPLEADORES; ACTIVIDADES NO DIFERENCIADAS DE LOS HOGARES COMO PRODUCTORES DE BIENES Y SERVICIOS PARA USO PROPIO.',\n",
        "        'ACTIVIDADES DE ORGANIZACIONES Y ÓRGANOS EXTRATERRITORIALES.'\n",
        "    ]\n",
        "}\n",
        "\n",
        "dfActividades = pd.DataFrame(actividades)"
      ]
    },
    {
      "cell_type": "code",
      "execution_count": 11,
      "metadata": {
        "id": "A8HWqunS5PQH"
      },
      "outputs": [],
      "source": [
        "df = df.merge(dfCapitales, how='left', left_on='COD_PROVINCIA', right_on='codigoProv')\n",
        "df = df.merge(dfActividades, how='left', left_on='CODIGO_SECTOR_N1', right_on='codigoActividad')\n",
        "df = df.drop(['CODIGO_SECTOR_N1', 'provincia','codigoProv', 'codigoActividad'], axis=1)"
      ]
    },
    {
      "cell_type": "code",
      "execution_count": 12,
      "metadata": {
        "colab": {
          "base_uri": "https://localhost:8080/",
          "height": 846
        },
        "id": "rRGjvjkD5PJY",
        "outputId": "e38359df-eb0d-42cc-af86-a1fc8e8e6695"
      },
      "outputs": [
        {
          "data": {
            "text/html": [
              "<div>\n",
              "<style scoped>\n",
              "    .dataframe tbody tr th:only-of-type {\n",
              "        vertical-align: middle;\n",
              "    }\n",
              "\n",
              "    .dataframe tbody tr th {\n",
              "        vertical-align: top;\n",
              "    }\n",
              "\n",
              "    .dataframe thead th {\n",
              "        text-align: right;\n",
              "    }\n",
              "</style>\n",
              "<table border=\"1\" class=\"dataframe\">\n",
              "  <thead>\n",
              "    <tr style=\"text-align: right;\">\n",
              "      <th></th>\n",
              "      <th>AÑO</th>\n",
              "      <th>MES</th>\n",
              "      <th>PROVINCIA</th>\n",
              "      <th>CANTON</th>\n",
              "      <th>VENTAS_NETAS_TARIFA_12</th>\n",
              "      <th>VENTAS_NETAS_TARIFA_0</th>\n",
              "      <th>EXPORTACIONES</th>\n",
              "      <th>COMPRAS_NETAS_TARIFA_12</th>\n",
              "      <th>COMPRAS_NETAS_TARIFA_0</th>\n",
              "      <th>IMPORTACIONES</th>\n",
              "      <th>...</th>\n",
              "      <th>BASE_IMPONIBLE_VENTAS</th>\n",
              "      <th>IMPUESTO_VENTAS</th>\n",
              "      <th>BASE_IMPONIBLE_COMPRAS</th>\n",
              "      <th>IMPUESTO_COMPRAS</th>\n",
              "      <th>COD_PROVINCIA</th>\n",
              "      <th>longitud</th>\n",
              "      <th>latitud</th>\n",
              "      <th>habitantes</th>\n",
              "      <th>region</th>\n",
              "      <th>descripcion</th>\n",
              "    </tr>\n",
              "  </thead>\n",
              "  <tbody>\n",
              "    <tr>\n",
              "      <th>0</th>\n",
              "      <td>2024</td>\n",
              "      <td>1</td>\n",
              "      <td>GALAPAGOS</td>\n",
              "      <td>ISABELA</td>\n",
              "      <td>116567.25</td>\n",
              "      <td>94589.94</td>\n",
              "      <td>0.00</td>\n",
              "      <td>203759.54</td>\n",
              "      <td>80978.61</td>\n",
              "      <td>0.00</td>\n",
              "      <td>...</td>\n",
              "      <td>1.040779e+05</td>\n",
              "      <td>1.248935e+04</td>\n",
              "      <td>1.819282e+05</td>\n",
              "      <td>2.183138e+04</td>\n",
              "      <td>9</td>\n",
              "      <td>-89.608586</td>\n",
              "      <td>-0.902486</td>\n",
              "      <td>25124</td>\n",
              "      <td>Costa</td>\n",
              "      <td>COMERCIO AL POR MAYOR Y AL POR MENOR; REPARACI...</td>\n",
              "    </tr>\n",
              "    <tr>\n",
              "      <th>1</th>\n",
              "      <td>2024</td>\n",
              "      <td>1</td>\n",
              "      <td>MANABI</td>\n",
              "      <td>PORTOVIEJO</td>\n",
              "      <td>840182.10</td>\n",
              "      <td>1432183.33</td>\n",
              "      <td>0.00</td>\n",
              "      <td>969367.30</td>\n",
              "      <td>876986.80</td>\n",
              "      <td>2888.98</td>\n",
              "      <td>...</td>\n",
              "      <td>7.501626e+05</td>\n",
              "      <td>9.001951e+04</td>\n",
              "      <td>8.655065e+05</td>\n",
              "      <td>1.038608e+05</td>\n",
              "      <td>14</td>\n",
              "      <td>-80.454450</td>\n",
              "      <td>-1.054580</td>\n",
              "      <td>1369780</td>\n",
              "      <td>Costa</td>\n",
              "      <td>OTRAS ACTIVIDADES DE SERVICIOS.</td>\n",
              "    </tr>\n",
              "    <tr>\n",
              "      <th>2</th>\n",
              "      <td>2024</td>\n",
              "      <td>1</td>\n",
              "      <td>EL ORO</td>\n",
              "      <td>EL GUABO</td>\n",
              "      <td>674.34</td>\n",
              "      <td>37748.72</td>\n",
              "      <td>0.00</td>\n",
              "      <td>26912.00</td>\n",
              "      <td>41877.56</td>\n",
              "      <td>0.00</td>\n",
              "      <td>...</td>\n",
              "      <td>6.020893e+02</td>\n",
              "      <td>7.225071e+01</td>\n",
              "      <td>2.402857e+04</td>\n",
              "      <td>2.883429e+03</td>\n",
              "      <td>7</td>\n",
              "      <td>-79.960530</td>\n",
              "      <td>-3.258610</td>\n",
              "      <td>600659</td>\n",
              "      <td>Costa</td>\n",
              "      <td>ACTIVIDADES DE ATENCIÓN DE LA SALUD HUMANA Y D...</td>\n",
              "    </tr>\n",
              "    <tr>\n",
              "      <th>3</th>\n",
              "      <td>2024</td>\n",
              "      <td>2</td>\n",
              "      <td>CARCHI</td>\n",
              "      <td>MIRA</td>\n",
              "      <td>24522.42</td>\n",
              "      <td>3243.59</td>\n",
              "      <td>0.00</td>\n",
              "      <td>22825.50</td>\n",
              "      <td>2524.46</td>\n",
              "      <td>0.00</td>\n",
              "      <td>...</td>\n",
              "      <td>2.189502e+04</td>\n",
              "      <td>2.627402e+03</td>\n",
              "      <td>2.037991e+04</td>\n",
              "      <td>2.445589e+03</td>\n",
              "      <td>4</td>\n",
              "      <td>-77.717270</td>\n",
              "      <td>0.811870</td>\n",
              "      <td>164524</td>\n",
              "      <td>Sierra</td>\n",
              "      <td>ACTIVIDADES PROFESIONALES, CIENTÍFICAS Y TÉCNI...</td>\n",
              "    </tr>\n",
              "    <tr>\n",
              "      <th>4</th>\n",
              "      <td>2024</td>\n",
              "      <td>2</td>\n",
              "      <td>LOJA</td>\n",
              "      <td>MACARA</td>\n",
              "      <td>926.04</td>\n",
              "      <td>0.00</td>\n",
              "      <td>0.00</td>\n",
              "      <td>10512.41</td>\n",
              "      <td>128.03</td>\n",
              "      <td>0.00</td>\n",
              "      <td>...</td>\n",
              "      <td>8.268214e+02</td>\n",
              "      <td>9.921857e+01</td>\n",
              "      <td>9.386080e+03</td>\n",
              "      <td>1.126330e+03</td>\n",
              "      <td>12</td>\n",
              "      <td>-79.204220</td>\n",
              "      <td>-3.993130</td>\n",
              "      <td>448966</td>\n",
              "      <td>Sierra</td>\n",
              "      <td>CONSTRUCCIÓN.</td>\n",
              "    </tr>\n",
              "    <tr>\n",
              "      <th>5</th>\n",
              "      <td>2024</td>\n",
              "      <td>2</td>\n",
              "      <td>GUAYAS</td>\n",
              "      <td>MILAGRO</td>\n",
              "      <td>13924559.70</td>\n",
              "      <td>25750620.77</td>\n",
              "      <td>1741475.36</td>\n",
              "      <td>13179228.89</td>\n",
              "      <td>12931019.79</td>\n",
              "      <td>322658.55</td>\n",
              "      <td>...</td>\n",
              "      <td>1.243264e+07</td>\n",
              "      <td>1.491917e+06</td>\n",
              "      <td>1.176717e+07</td>\n",
              "      <td>1.412060e+06</td>\n",
              "      <td>10</td>\n",
              "      <td>-79.907950</td>\n",
              "      <td>-2.205840</td>\n",
              "      <td>3645483</td>\n",
              "      <td>Costa</td>\n",
              "      <td>COMERCIO AL POR MAYOR Y AL POR MENOR; REPARACI...</td>\n",
              "    </tr>\n",
              "    <tr>\n",
              "      <th>6</th>\n",
              "      <td>2024</td>\n",
              "      <td>2</td>\n",
              "      <td>GUAYAS</td>\n",
              "      <td>DURAN</td>\n",
              "      <td>28652576.29</td>\n",
              "      <td>44141066.17</td>\n",
              "      <td>74266406.41</td>\n",
              "      <td>23825339.53</td>\n",
              "      <td>87879591.82</td>\n",
              "      <td>24186302.13</td>\n",
              "      <td>...</td>\n",
              "      <td>2.558266e+07</td>\n",
              "      <td>3.069919e+06</td>\n",
              "      <td>2.127262e+07</td>\n",
              "      <td>2.552715e+06</td>\n",
              "      <td>10</td>\n",
              "      <td>-79.907950</td>\n",
              "      <td>-2.205840</td>\n",
              "      <td>3645483</td>\n",
              "      <td>Costa</td>\n",
              "      <td>COMERCIO AL POR MAYOR Y AL POR MENOR; REPARACI...</td>\n",
              "    </tr>\n",
              "    <tr>\n",
              "      <th>7</th>\n",
              "      <td>2024</td>\n",
              "      <td>2</td>\n",
              "      <td>AZUAY</td>\n",
              "      <td>CUENCA</td>\n",
              "      <td>24373567.71</td>\n",
              "      <td>2263487.12</td>\n",
              "      <td>349921.59</td>\n",
              "      <td>12959129.93</td>\n",
              "      <td>2166199.07</td>\n",
              "      <td>476383.77</td>\n",
              "      <td>...</td>\n",
              "      <td>2.176211e+07</td>\n",
              "      <td>2.611454e+06</td>\n",
              "      <td>1.157065e+07</td>\n",
              "      <td>1.388478e+06</td>\n",
              "      <td>1</td>\n",
              "      <td>-79.004530</td>\n",
              "      <td>-2.900550</td>\n",
              "      <td>712127</td>\n",
              "      <td>Sierra</td>\n",
              "      <td>ACTIVIDADES PROFESIONALES, CIENTÍFICAS Y TÉCNI...</td>\n",
              "    </tr>\n",
              "    <tr>\n",
              "      <th>8</th>\n",
              "      <td>2024</td>\n",
              "      <td>2</td>\n",
              "      <td>GUAYAS</td>\n",
              "      <td>GUAYAQUIL</td>\n",
              "      <td>45894639.89</td>\n",
              "      <td>4424483.28</td>\n",
              "      <td>102999.24</td>\n",
              "      <td>21477517.07</td>\n",
              "      <td>11489529.00</td>\n",
              "      <td>731733.62</td>\n",
              "      <td>...</td>\n",
              "      <td>4.097736e+07</td>\n",
              "      <td>4.917283e+06</td>\n",
              "      <td>1.917635e+07</td>\n",
              "      <td>2.301163e+06</td>\n",
              "      <td>10</td>\n",
              "      <td>-79.907950</td>\n",
              "      <td>-2.205840</td>\n",
              "      <td>3645483</td>\n",
              "      <td>Costa</td>\n",
              "      <td>ACTIVIDADES DE ALOJAMIENTO Y DE SERVICIO DE CO...</td>\n",
              "    </tr>\n",
              "    <tr>\n",
              "      <th>9</th>\n",
              "      <td>2024</td>\n",
              "      <td>1</td>\n",
              "      <td>GUAYAS</td>\n",
              "      <td>EL EMPALME</td>\n",
              "      <td>37568.55</td>\n",
              "      <td>157517.61</td>\n",
              "      <td>0.00</td>\n",
              "      <td>43366.34</td>\n",
              "      <td>96104.38</td>\n",
              "      <td>22.85</td>\n",
              "      <td>...</td>\n",
              "      <td>3.354335e+04</td>\n",
              "      <td>4.025202e+03</td>\n",
              "      <td>3.871995e+04</td>\n",
              "      <td>4.646394e+03</td>\n",
              "      <td>10</td>\n",
              "      <td>-79.907950</td>\n",
              "      <td>-2.205840</td>\n",
              "      <td>3645483</td>\n",
              "      <td>Costa</td>\n",
              "      <td>OTRAS ACTIVIDADES DE SERVICIOS.</td>\n",
              "    </tr>\n",
              "  </tbody>\n",
              "</table>\n",
              "<p>10 rows × 23 columns</p>\n",
              "</div>"
            ],
            "text/plain": [
              "    AÑO  MES  PROVINCIA      CANTON  VENTAS_NETAS_TARIFA_12  \\\n",
              "0  2024    1  GALAPAGOS     ISABELA               116567.25   \n",
              "1  2024    1     MANABI  PORTOVIEJO               840182.10   \n",
              "2  2024    1     EL ORO    EL GUABO                  674.34   \n",
              "3  2024    2     CARCHI        MIRA                24522.42   \n",
              "4  2024    2       LOJA      MACARA                  926.04   \n",
              "5  2024    2     GUAYAS     MILAGRO             13924559.70   \n",
              "6  2024    2     GUAYAS       DURAN             28652576.29   \n",
              "7  2024    2      AZUAY      CUENCA             24373567.71   \n",
              "8  2024    2     GUAYAS   GUAYAQUIL             45894639.89   \n",
              "9  2024    1     GUAYAS  EL EMPALME                37568.55   \n",
              "\n",
              "   VENTAS_NETAS_TARIFA_0  EXPORTACIONES  COMPRAS_NETAS_TARIFA_12  \\\n",
              "0               94589.94           0.00                203759.54   \n",
              "1             1432183.33           0.00                969367.30   \n",
              "2               37748.72           0.00                 26912.00   \n",
              "3                3243.59           0.00                 22825.50   \n",
              "4                   0.00           0.00                 10512.41   \n",
              "5            25750620.77     1741475.36              13179228.89   \n",
              "6            44141066.17    74266406.41              23825339.53   \n",
              "7             2263487.12      349921.59              12959129.93   \n",
              "8             4424483.28      102999.24              21477517.07   \n",
              "9              157517.61           0.00                 43366.34   \n",
              "\n",
              "   COMPRAS_NETAS_TARIFA_0  IMPORTACIONES  ...  BASE_IMPONIBLE_VENTAS  \\\n",
              "0                80978.61           0.00  ...           1.040779e+05   \n",
              "1               876986.80        2888.98  ...           7.501626e+05   \n",
              "2                41877.56           0.00  ...           6.020893e+02   \n",
              "3                 2524.46           0.00  ...           2.189502e+04   \n",
              "4                  128.03           0.00  ...           8.268214e+02   \n",
              "5             12931019.79      322658.55  ...           1.243264e+07   \n",
              "6             87879591.82    24186302.13  ...           2.558266e+07   \n",
              "7              2166199.07      476383.77  ...           2.176211e+07   \n",
              "8             11489529.00      731733.62  ...           4.097736e+07   \n",
              "9                96104.38          22.85  ...           3.354335e+04   \n",
              "\n",
              "   IMPUESTO_VENTAS  BASE_IMPONIBLE_COMPRAS  IMPUESTO_COMPRAS  COD_PROVINCIA  \\\n",
              "0     1.248935e+04            1.819282e+05      2.183138e+04              9   \n",
              "1     9.001951e+04            8.655065e+05      1.038608e+05             14   \n",
              "2     7.225071e+01            2.402857e+04      2.883429e+03              7   \n",
              "3     2.627402e+03            2.037991e+04      2.445589e+03              4   \n",
              "4     9.921857e+01            9.386080e+03      1.126330e+03             12   \n",
              "5     1.491917e+06            1.176717e+07      1.412060e+06             10   \n",
              "6     3.069919e+06            2.127262e+07      2.552715e+06             10   \n",
              "7     2.611454e+06            1.157065e+07      1.388478e+06              1   \n",
              "8     4.917283e+06            1.917635e+07      2.301163e+06             10   \n",
              "9     4.025202e+03            3.871995e+04      4.646394e+03             10   \n",
              "\n",
              "    longitud   latitud  habitantes  region  \\\n",
              "0 -89.608586 -0.902486       25124   Costa   \n",
              "1 -80.454450 -1.054580     1369780   Costa   \n",
              "2 -79.960530 -3.258610      600659   Costa   \n",
              "3 -77.717270  0.811870      164524  Sierra   \n",
              "4 -79.204220 -3.993130      448966  Sierra   \n",
              "5 -79.907950 -2.205840     3645483   Costa   \n",
              "6 -79.907950 -2.205840     3645483   Costa   \n",
              "7 -79.004530 -2.900550      712127  Sierra   \n",
              "8 -79.907950 -2.205840     3645483   Costa   \n",
              "9 -79.907950 -2.205840     3645483   Costa   \n",
              "\n",
              "                                         descripcion  \n",
              "0  COMERCIO AL POR MAYOR Y AL POR MENOR; REPARACI...  \n",
              "1                    OTRAS ACTIVIDADES DE SERVICIOS.  \n",
              "2  ACTIVIDADES DE ATENCIÓN DE LA SALUD HUMANA Y D...  \n",
              "3  ACTIVIDADES PROFESIONALES, CIENTÍFICAS Y TÉCNI...  \n",
              "4                                      CONSTRUCCIÓN.  \n",
              "5  COMERCIO AL POR MAYOR Y AL POR MENOR; REPARACI...  \n",
              "6  COMERCIO AL POR MAYOR Y AL POR MENOR; REPARACI...  \n",
              "7  ACTIVIDADES PROFESIONALES, CIENTÍFICAS Y TÉCNI...  \n",
              "8  ACTIVIDADES DE ALOJAMIENTO Y DE SERVICIO DE CO...  \n",
              "9                    OTRAS ACTIVIDADES DE SERVICIOS.  \n",
              "\n",
              "[10 rows x 23 columns]"
            ]
          },
          "execution_count": 12,
          "metadata": {},
          "output_type": "execute_result"
        }
      ],
      "source": [
        "df.head(10)"
      ]
    },
    {
      "cell_type": "code",
      "execution_count": 13,
      "metadata": {
        "colab": {
          "base_uri": "https://localhost:8080/"
        },
        "id": "LsRUTuVJ_qoz",
        "outputId": "7f6a5cd3-eb4d-4c49-d432-9e946af67262"
      },
      "outputs": [
        {
          "name": "stdout",
          "output_type": "stream",
          "text": [
            "<class 'pandas.core.frame.DataFrame'>\n",
            "RangeIndex: 27585 entries, 0 to 27584\n",
            "Data columns (total 23 columns):\n",
            " #   Column                   Non-Null Count  Dtype  \n",
            "---  ------                   --------------  -----  \n",
            " 0   AÑO                      27585 non-null  int64  \n",
            " 1   MES                      27585 non-null  int64  \n",
            " 2   PROVINCIA                27585 non-null  object \n",
            " 3   CANTON                   27585 non-null  object \n",
            " 4   VENTAS_NETAS_TARIFA_12   27585 non-null  float64\n",
            " 5   VENTAS_NETAS_TARIFA_0    27585 non-null  float64\n",
            " 6   EXPORTACIONES            27585 non-null  float64\n",
            " 7   COMPRAS_NETAS_TARIFA_12  27585 non-null  float64\n",
            " 8   COMPRAS_NETAS_TARIFA_0   27585 non-null  float64\n",
            " 9   IMPORTACIONES            27585 non-null  float64\n",
            " 10  COMPRAS_RISE             27585 non-null  float64\n",
            " 11  TOTAL_COMPRAS            27585 non-null  float64\n",
            " 12  TOTAL_VENTAS             27585 non-null  float64\n",
            " 13  BASE_IMPONIBLE_VENTAS    27585 non-null  float64\n",
            " 14  IMPUESTO_VENTAS          27585 non-null  float64\n",
            " 15  BASE_IMPONIBLE_COMPRAS   27585 non-null  float64\n",
            " 16  IMPUESTO_COMPRAS         27585 non-null  float64\n",
            " 17  COD_PROVINCIA            27585 non-null  int64  \n",
            " 18  longitud                 27585 non-null  float64\n",
            " 19  latitud                  27585 non-null  float64\n",
            " 20  habitantes               27585 non-null  object \n",
            " 21  region                   27585 non-null  object \n",
            " 22  descripcion              27585 non-null  object \n",
            "dtypes: float64(15), int64(3), object(5)\n",
            "memory usage: 4.8+ MB\n"
          ]
        }
      ],
      "source": [
        "df.info()"
      ]
    },
    {
      "cell_type": "code",
      "execution_count": 14,
      "metadata": {
        "colab": {
          "base_uri": "https://localhost:8080/",
          "height": 607
        },
        "id": "jBCfoFiXIyAK",
        "outputId": "0b02230f-a392-4690-f9c6-1302ba4e1b44"
      },
      "outputs": [
        {
          "data": {
            "image/png": "[encoded data removed]",
            "text/plain": [
              "<Figure size 1200x600 with 1 Axes>"
            ]
          },
          "metadata": {},
          "output_type": "display_data"
        }
      ],
      "source": [
        "ventas_por_canton = df.groupby('CANTON')[['VENTAS_NETAS_TARIFA_12', 'VENTAS_NETAS_TARIFA_0']].sum()\n",
        "\n",
        "top_cantones = ventas_por_canton.nlargest(10, 'VENTAS_NETAS_TARIFA_12').index.union(\n",
        "    ventas_por_canton.nlargest(10, 'VENTAS_NETAS_TARIFA_0').index\n",
        ")\n",
        "\n",
        "top_ventas = ventas_por_canton.loc[top_cantones]\n",
        "\n",
        "# Grafica\n",
        "top_ventas.plot(kind='bar', figsize=(12, 6))\n",
        "plt.title('Top 10 Ventas Netas por Canton')\n",
        "plt.xlabel('Canton')\n",
        "plt.ylabel('Ventas Netas')\n",
        "plt.xticks(rotation=45)\n",
        "plt.legend(title='Tarifa')\n",
        "plt.tight_layout()\n",
        "plt.show()\n"
      ]
    },
    {
      "cell_type": "code",
      "execution_count": 15,
      "metadata": {
        "colab": {
          "base_uri": "https://localhost:8080/",
          "height": 455
        },
        "id": "kAsSRdRXLmFu",
        "outputId": "c22a01ec-2fdb-483a-bfc7-ec3a7f59bb8f"
      },
      "outputs": [
        {
          "data": {
            "text/html": [
              "<div>\n",
              "<style scoped>\n",
              "    .dataframe tbody tr th:only-of-type {\n",
              "        vertical-align: middle;\n",
              "    }\n",
              "\n",
              "    .dataframe tbody tr th {\n",
              "        vertical-align: top;\n",
              "    }\n",
              "\n",
              "    .dataframe thead th {\n",
              "        text-align: right;\n",
              "    }\n",
              "</style>\n",
              "<table border=\"1\" class=\"dataframe\">\n",
              "  <thead>\n",
              "    <tr style=\"text-align: right;\">\n",
              "      <th></th>\n",
              "      <th>VENTAS_NETAS_TARIFA_12</th>\n",
              "      <th>VENTAS_NETAS_TARIFA_0</th>\n",
              "    </tr>\n",
              "    <tr>\n",
              "      <th>CANTON</th>\n",
              "      <th></th>\n",
              "      <th></th>\n",
              "    </tr>\n",
              "  </thead>\n",
              "  <tbody>\n",
              "    <tr>\n",
              "      <th>24 DE MAYO</th>\n",
              "      <td>2.679906e+06</td>\n",
              "      <td>7.220483e+06</td>\n",
              "    </tr>\n",
              "    <tr>\n",
              "      <th>AGUARICO</th>\n",
              "      <td>3.210643e+06</td>\n",
              "      <td>3.368450e+06</td>\n",
              "    </tr>\n",
              "    <tr>\n",
              "      <th>ALAUSI</th>\n",
              "      <td>7.930413e+06</td>\n",
              "      <td>1.026057e+07</td>\n",
              "    </tr>\n",
              "    <tr>\n",
              "      <th>ALFREDO BAQUERIZO MORENO</th>\n",
              "      <td>1.334400e+07</td>\n",
              "      <td>2.188037e+07</td>\n",
              "    </tr>\n",
              "    <tr>\n",
              "      <th>AMBATO</th>\n",
              "      <td>1.310013e+09</td>\n",
              "      <td>8.489130e+08</td>\n",
              "    </tr>\n",
              "    <tr>\n",
              "      <th>...</th>\n",
              "      <td>...</td>\n",
              "      <td>...</td>\n",
              "    </tr>\n",
              "    <tr>\n",
              "      <th>YACUAMBI</th>\n",
              "      <td>8.646369e+05</td>\n",
              "      <td>5.890550e+05</td>\n",
              "    </tr>\n",
              "    <tr>\n",
              "      <th>YANTZAZA</th>\n",
              "      <td>8.276365e+07</td>\n",
              "      <td>5.394236e+07</td>\n",
              "    </tr>\n",
              "    <tr>\n",
              "      <th>ZAMORA</th>\n",
              "      <td>5.253121e+07</td>\n",
              "      <td>3.592754e+07</td>\n",
              "    </tr>\n",
              "    <tr>\n",
              "      <th>ZAPOTILLO</th>\n",
              "      <td>3.568323e+06</td>\n",
              "      <td>1.239970e+07</td>\n",
              "    </tr>\n",
              "    <tr>\n",
              "      <th>ZARUMA</th>\n",
              "      <td>3.594842e+07</td>\n",
              "      <td>2.906887e+07</td>\n",
              "    </tr>\n",
              "  </tbody>\n",
              "</table>\n",
              "<p>219 rows × 2 columns</p>\n",
              "</div>"
            ],
            "text/plain": [
              "                          VENTAS_NETAS_TARIFA_12  VENTAS_NETAS_TARIFA_0\n",
              "CANTON                                                                 \n",
              "24 DE MAYO                          2.679906e+06           7.220483e+06\n",
              "AGUARICO                            3.210643e+06           3.368450e+06\n",
              "ALAUSI                              7.930413e+06           1.026057e+07\n",
              "ALFREDO BAQUERIZO MORENO            1.334400e+07           2.188037e+07\n",
              "AMBATO                              1.310013e+09           8.489130e+08\n",
              "...                                          ...                    ...\n",
              "YACUAMBI                            8.646369e+05           5.890550e+05\n",
              "YANTZAZA                            8.276365e+07           5.394236e+07\n",
              "ZAMORA                              5.253121e+07           3.592754e+07\n",
              "ZAPOTILLO                           3.568323e+06           1.239970e+07\n",
              "ZARUMA                              3.594842e+07           2.906887e+07\n",
              "\n",
              "[219 rows x 2 columns]"
            ]
          },
          "execution_count": 15,
          "metadata": {},
          "output_type": "execute_result"
        }
      ],
      "source": [
        "ventas_por_canton = df.groupby('CANTON')[['VENTAS_NETAS_TARIFA_12', 'VENTAS_NETAS_TARIFA_0']].sum()\n",
        "ventas_por_canton"
      ]
    },
    {
      "cell_type": "code",
      "execution_count": 16,
      "metadata": {
        "colab": {
          "base_uri": "https://localhost:8080/",
          "height": 607
        },
        "id": "IaLyNZdwIx9V",
        "outputId": "c00b6475-8b4c-47f0-ebcc-d63419768142"
      },
      "outputs": [
        {
          "data": {
            "image/png": "[encoded data removed]",
            "text/plain": [
              "<Figure size 1200x600 with 1 Axes>"
            ]
          },
          "metadata": {},
          "output_type": "display_data"
        }
      ],
      "source": [
        "ventas_por_canton = df.groupby('CANTON')[['VENTAS_NETAS_TARIFA_12', 'VENTAS_NETAS_TARIFA_0']].sum()\n",
        "\n",
        "top_cantones = ventas_por_canton.nlargest(10, 'VENTAS_NETAS_TARIFA_12').index.union(\n",
        "    ventas_por_canton.nlargest(10, 'VENTAS_NETAS_TARIFA_0').index\n",
        ")\n",
        "\n",
        "top_ventas = ventas_por_canton.loc[top_cantones]\n",
        "\n",
        "top_ventas['TOTAL_VENTAS'] = top_ventas['VENTAS_NETAS_TARIFA_12'] + top_ventas['VENTAS_NETAS_TARIFA_0']\n",
        "top_ventas = top_ventas.sort_values(by='TOTAL_VENTAS', ascending=False)\n",
        "\n",
        "top_ventas = top_ventas.drop(columns='TOTAL_VENTAS')\n",
        "\n",
        "# Graficar\n",
        "top_ventas.plot(kind='bar', figsize=(12, 6))\n",
        "plt.title('Top 10 Ventas Netas por Canton (Ordenado de Mayor a Menor)')\n",
        "plt.xlabel('Canton')\n",
        "plt.ylabel('Ventas Netas')\n",
        "plt.xticks(rotation=45)\n",
        "plt.legend(title='Tarifa')\n",
        "plt.tight_layout()\n",
        "plt.show()\n"
      ]
    },
    {
      "cell_type": "code",
      "execution_count": 17,
      "metadata": {
        "colab": {
          "base_uri": "https://localhost:8080/",
          "height": 607
        },
        "id": "qxbP9c9DIx6H",
        "outputId": "548716c9-1cf1-4812-dddc-8606884c2526"
      },
      "outputs": [],
      "source": [
        "def tax_month():\n",
        "\n",
        "    impuestos_por_mes = df.groupby('MES')[['IMPUESTO_VENTAS', 'IMPUESTO_COMPRAS']].sum().reset_index()\n",
        "    fig = px.line(impuestos_por_mes, \n",
        "                x='MES', \n",
        "                y=['IMPUESTO_VENTAS', 'IMPUESTO_COMPRAS'],\n",
        "                markers=True,\n",
        "                title='Impuestos por Compras y Ventas por Mes',\n",
        "                labels={'x': 'Mes del Año', 'y': 'Impuestos'},)\n",
        "\n",
        "    fig.update_layout(xaxis_title='Mes del Año',\n",
        "                    yaxis_title='Impuestos',\n",
        "                    width=800, height=500)\n",
        "    return fig\n"
      ]
    },
    {
      "cell_type": "code",
      "execution_count": 18,
      "metadata": {},
      "outputs": [],
      "source": [
        "## Encabezado \n",
        "def header_title():\n",
        "    return html.Div([\n",
        "            html.H3(\"DATOS ABIERTOS SRI\", style={'textAlign':'center'}),\n",
        "            html.H3(\"VENTAS – COMPRAS  2024\", style={'textAlign':'center'})\n",
        "        ], style={'marginBottom': 25, 'marginTop': 25})"
      ]
    },
    {
      "cell_type": "code",
      "execution_count": 19,
      "metadata": {},
      "outputs": [],
      "source": [
        "## Valores únicos para mes y actividad economica\n",
        "meses_anio = df[\"MES\"].unique()\n",
        "descripcion_actividad_ec = df[\"descripcion\"].unique()"
      ]
    },
    {
      "cell_type": "code",
      "execution_count": 20,
      "metadata": {},
      "outputs": [],
      "source": [
        "def map_ecuator(region):\n",
        "\n",
        "    df_aux = df.copy()\n",
        "\n",
        "    df_aux_1 = df_aux[df_aux['region'] == region]\n",
        "\n",
        "    fig = px.scatter_mapbox(df_aux_1, \n",
        "                        hover_name='PROVINCIA',\n",
        "                        lat=\"latitud\",\n",
        "                        lon=\"longitud\",\n",
        "                        zoom=5)\n",
        "\n",
        "    # Configurar el diseño del mapa\n",
        "    fig.update_layout(mapbox_style=\"open-street-map\")\n",
        "    \n",
        "    return fig\n",
        "    "
      ]
    },
    {
      "cell_type": "code",
      "execution_count": 21,
      "metadata": {},
      "outputs": [],
      "source": [
        "def graph_base(region):\n",
        "\n",
        "    ventas_por_region = df.groupby('CANTON')[['VENTAS_NETAS_TARIFA_12', 'VENTAS_NETAS_TARIFA_0']].sum()\n",
        "\n",
        "    df_region_ventas = df[df[\"region\"] == region]\n",
        "\n",
        "    df_region_ventas= df_region_ventas.groupby('CANTON')[['VENTAS_NETAS_TARIFA_12', 'VENTAS_NETAS_TARIFA_0']].sum()\n",
        "\n",
        "    top_canton_ventas = df_region_ventas.nlargest(10, 'VENTAS_NETAS_TARIFA_12').index.union(\n",
        "        df_region_ventas.nlargest(10, 'VENTAS_NETAS_TARIFA_0').index\n",
        "    )\n",
        "    top_ventas = ventas_por_region.loc[top_canton_ventas]\n",
        "\n",
        "    top_ventas['TOTAL_VENTAS'] = top_ventas['VENTAS_NETAS_TARIFA_12'] + top_ventas['VENTAS_NETAS_TARIFA_0']\n",
        "    top_ventas = top_ventas.sort_values(by='TOTAL_VENTAS', ascending=False)\n",
        "    top_ventas = top_ventas.drop(columns='TOTAL_VENTAS')\n",
        "\n",
        "    fig = px.bar(top_ventas.reset_index(), \n",
        "                 x=\"CANTON\", \n",
        "                 y=['VENTAS_NETAS_TARIFA_12', 'VENTAS_NETAS_TARIFA_0'],\n",
        "                 barmode='group',\n",
        "                 title='Top Ventas por Cantón',\n",
        "                 labels={'y': 'Total Ventas'},)\n",
        "    \n",
        "    \n",
        "\n",
        "    fig.update_layout(yaxis_title='Total Ventas',\n",
        "                    width=700, height=500,\n",
        "                    legend_title_text='', # Título de la leyenda \n",
        "                      legend=dict( orientation='h', # Orientación horizontal \n",
        "                                  yanchor='bottom', # Ancla vertical en la parte inferior \n",
        "                                  y=1.02, # Posición vertical (justo encima del gráfico) \n",
        "                                  xanchor='center', # Ancla horizontal en el centro \n",
        "                                  x=0.5, # Posición horizontal centrada \n",
        "                                  ) )\n",
        "    return fig"
      ]
    },
    {
      "cell_type": "code",
      "execution_count": 22,
      "metadata": {},
      "outputs": [
        {
          "data": {
            "application/vnd.plotly.v1+json": {
              "config": {
                "plotlyServerURL": "https://plot.ly"
              },
              "data": [
                {
                  "alignmentgroup": "True",
                  "hovertemplate": "variable=VENTAS_NETAS_TARIFA_12<br>CANTON=%{x}<br>value=%{y}<extra></extra>",
                  "legendgroup": "VENTAS_NETAS_TARIFA_12",
                  "marker": {
                    "color": "#636efa",
                    "pattern": {
                      "shape": ""
                    }
                  },
                  "name": "VENTAS_NETAS_TARIFA_12",
                  "offsetgroup": "VENTAS_NETAS_TARIFA_12",
                  "orientation": "v",
                  "showlegend": true,
                  "textposition": "auto",
                  "type": "bar",
                  "x": [
                    "QUITO",
                    "CUENCA",
                    "RUMIÑAHUI",
                    "AMBATO",
                    "SANTO DOMINGO",
                    "LOJA",
                    "IBARRA",
                    "RIOBAMBA",
                    "LATACUNGA",
                    "MEJIA"
                  ],
                  "xaxis": "x",
                  "y": [
                    30148582572.07,
                    3193058756.14,
                    1559121133.99,
                    1310013075.84,
                    990205380.7,
                    422233407.97,
                    358309598.05,
                    368949011.91,
                    282258700.53000003,
                    168802051.31
                  ],
                  "yaxis": "y"
                },
                {
                  "alignmentgroup": "True",
                  "hovertemplate": "variable=VENTAS_NETAS_TARIFA_0<br>CANTON=%{x}<br>value=%{y}<extra></extra>",
                  "legendgroup": "VENTAS_NETAS_TARIFA_0",
                  "marker": {
                    "color": "#EF553B",
                    "pattern": {
                      "shape": ""
                    }
                  },
                  "name": "VENTAS_NETAS_TARIFA_0",
                  "offsetgroup": "VENTAS_NETAS_TARIFA_0",
                  "orientation": "v",
                  "showlegend": true,
                  "textposition": "auto",
                  "type": "bar",
                  "x": [
                    "QUITO",
                    "CUENCA",
                    "RUMIÑAHUI",
                    "AMBATO",
                    "SANTO DOMINGO",
                    "LOJA",
                    "IBARRA",
                    "RIOBAMBA",
                    "LATACUNGA",
                    "MEJIA"
                  ],
                  "xaxis": "x",
                  "y": [
                    10287045440.41,
                    2085367628.61,
                    1087434361.6000001,
                    848913012.39,
                    862775529.49,
                    455236067.83,
                    396142635.41,
                    366618964.62,
                    392375836.17,
                    377509553.4
                  ],
                  "yaxis": "y"
                }
              ],
              "layout": {
                "barmode": "group",
                "height": 500,
                "legend": {
                  "orientation": "h",
                  "title": {
                    "text": ""
                  },
                  "tracegroupgap": 0,
                  "x": 0.5,
                  "xanchor": "center",
                  "y": 1.02,
                  "yanchor": "bottom"
                },
                "template": {
                  "data": {
                    "bar": [
                      {
                        "error_x": {
                          "color": "#2a3f5f"
                        },
                        "error_y": {
                          "color": "#2a3f5f"
                        },
                        "marker": {
                          "line": {
                            "color": "#E5ECF6",
                            "width": 0.5
                          },
                          "pattern": {
                            "fillmode": "overlay",
                            "size": 10,
                            "solidity": 0.2
                          }
                        },
                        "type": "bar"
                      }
                    ],
                    "barpolar": [
                      {
                        "marker": {
                          "line": {
                            "color": "#E5ECF6",
                            "width": 0.5
                          },
                          "pattern": {
                            "fillmode": "overlay",
                            "size": 10,
                            "solidity": 0.2
                          }
                        },
                        "type": "barpolar"
                      }
                    ],
                    "carpet": [
                      {
                        "aaxis": {
                          "endlinecolor": "#2a3f5f",
                          "gridcolor": "white",
                          "linecolor": "white",
                          "minorgridcolor": "white",
                          "startlinecolor": "#2a3f5f"
                        },
                        "baxis": {
                          "endlinecolor": "#2a3f5f",
                          "gridcolor": "white",
                          "linecolor": "white",
                          "minorgridcolor": "white",
                          "startlinecolor": "#2a3f5f"
                        },
                        "type": "carpet"
                      }
                    ],
                    "choropleth": [
                      {
                        "colorbar": {
                          "outlinewidth": 0,
                          "ticks": ""
                        },
                        "type": "choropleth"
                      }
                    ],
                    "contour": [
                      {
                        "colorbar": {
                          "outlinewidth": 0,
                          "ticks": ""
                        },
                        "colorscale": [
                          [
                            0,
                            "#0d0887"
                          ],
                          [
                            0.1111111111111111,
                            "#46039f"
                          ],
                          [
                            0.2222222222222222,
                            "#7201a8"
                          ],
                          [
                            0.3333333333333333,
                            "#9c179e"
                          ],
                          [
                            0.4444444444444444,
                            "#bd3786"
                          ],
                          [
                            0.5555555555555556,
                            "#d8576b"
                          ],
                          [
                            0.6666666666666666,
                            "#ed7953"
                          ],
                          [
                            0.7777777777777778,
                            "#fb9f3a"
                          ],
                          [
                            0.8888888888888888,
                            "#fdca26"
                          ],
                          [
                            1,
                            "#f0f921"
                          ]
                        ],
                        "type": "contour"
                      }
                    ],
                    "contourcarpet": [
                      {
                        "colorbar": {
                          "outlinewidth": 0,
                          "ticks": ""
                        },
                        "type": "contourcarpet"
                      }
                    ],
                    "heatmap": [
                      {
                        "colorbar": {
                          "outlinewidth": 0,
                          "ticks": ""
                        },
                        "colorscale": [
                          [
                            0,
                            "#0d0887"
                          ],
                          [
                            0.1111111111111111,
                            "#46039f"
                          ],
                          [
                            0.2222222222222222,
                            "#7201a8"
                          ],
                          [
                            0.3333333333333333,
                            "#9c179e"
                          ],
                          [
                            0.4444444444444444,
                            "#bd3786"
                          ],
                          [
                            0.5555555555555556,
                            "#d8576b"
                          ],
                          [
                            0.6666666666666666,
                            "#ed7953"
                          ],
                          [
                            0.7777777777777778,
                            "#fb9f3a"
                          ],
                          [
                            0.8888888888888888,
                            "#fdca26"
                          ],
                          [
                            1,
                            "#f0f921"
                          ]
                        ],
                        "type": "heatmap"
                      }
                    ],
                    "heatmapgl": [
                      {
                        "colorbar": {
                          "outlinewidth": 0,
                          "ticks": ""
                        },
                        "colorscale": [
                          [
                            0,
                            "#0d0887"
                          ],
                          [
                            0.1111111111111111,
                            "#46039f"
                          ],
                          [
                            0.2222222222222222,
                            "#7201a8"
                          ],
                          [
                            0.3333333333333333,
                            "#9c179e"
                          ],
                          [
                            0.4444444444444444,
                            "#bd3786"
                          ],
                          [
                            0.5555555555555556,
                            "#d8576b"
                          ],
                          [
                            0.6666666666666666,
                            "#ed7953"
                          ],
                          [
                            0.7777777777777778,
                            "#fb9f3a"
                          ],
                          [
                            0.8888888888888888,
                            "#fdca26"
                          ],
                          [
                            1,
                            "#f0f921"
                          ]
                        ],
                        "type": "heatmapgl"
                      }
                    ],
                    "histogram": [
                      {
                        "marker": {
                          "pattern": {
                            "fillmode": "overlay",
                            "size": 10,
                            "solidity": 0.2
                          }
                        },
                        "type": "histogram"
                      }
                    ],
                    "histogram2d": [
                      {
                        "colorbar": {
                          "outlinewidth": 0,
                          "ticks": ""
                        },
                        "colorscale": [
                          [
                            0,
                            "#0d0887"
                          ],
                          [
                            0.1111111111111111,
                            "#46039f"
                          ],
                          [
                            0.2222222222222222,
                            "#7201a8"
                          ],
                          [
                            0.3333333333333333,
                            "#9c179e"
                          ],
                          [
                            0.4444444444444444,
                            "#bd3786"
                          ],
                          [
                            0.5555555555555556,
                            "#d8576b"
                          ],
                          [
                            0.6666666666666666,
                            "#ed7953"
                          ],
                          [
                            0.7777777777777778,
                            "#fb9f3a"
                          ],
                          [
                            0.8888888888888888,
                            "#fdca26"
                          ],
                          [
                            1,
                            "#f0f921"
                          ]
                        ],
                        "type": "histogram2d"
                      }
                    ],
                    "histogram2dcontour": [
                      {
                        "colorbar": {
                          "outlinewidth": 0,
                          "ticks": ""
                        },
                        "colorscale": [
                          [
                            0,
                            "#0d0887"
                          ],
                          [
                            0.1111111111111111,
                            "#46039f"
                          ],
                          [
                            0.2222222222222222,
                            "#7201a8"
                          ],
                          [
                            0.3333333333333333,
                            "#9c179e"
                          ],
                          [
                            0.4444444444444444,
                            "#bd3786"
                          ],
                          [
                            0.5555555555555556,
                            "#d8576b"
                          ],
                          [
                            0.6666666666666666,
                            "#ed7953"
                          ],
                          [
                            0.7777777777777778,
                            "#fb9f3a"
                          ],
                          [
                            0.8888888888888888,
                            "#fdca26"
                          ],
                          [
                            1,
                            "#f0f921"
                          ]
                        ],
                        "type": "histogram2dcontour"
                      }
                    ],
                    "mesh3d": [
                      {
                        "colorbar": {
                          "outlinewidth": 0,
                          "ticks": ""
                        },
                        "type": "mesh3d"
                      }
                    ],
                    "parcoords": [
                      {
                        "line": {
                          "colorbar": {
                            "outlinewidth": 0,
                            "ticks": ""
                          }
                        },
                        "type": "parcoords"
                      }
                    ],
                    "pie": [
                      {
                        "automargin": true,
                        "type": "pie"
                      }
                    ],
                    "scatter": [
                      {
                        "fillpattern": {
                          "fillmode": "overlay",
                          "size": 10,
                          "solidity": 0.2
                        },
                        "type": "scatter"
                      }
                    ],
                    "scatter3d": [
                      {
                        "line": {
                          "colorbar": {
                            "outlinewidth": 0,
                            "ticks": ""
                          }
                        },
                        "marker": {
                          "colorbar": {
                            "outlinewidth": 0,
                            "ticks": ""
                          }
                        },
                        "type": "scatter3d"
                      }
                    ],
                    "scattercarpet": [
                      {
                        "marker": {
                          "colorbar": {
                            "outlinewidth": 0,
                            "ticks": ""
                          }
                        },
                        "type": "scattercarpet"
                      }
                    ],
                    "scattergeo": [
                      {
                        "marker": {
                          "colorbar": {
                            "outlinewidth": 0,
                            "ticks": ""
                          }
                        },
                        "type": "scattergeo"
                      }
                    ],
                    "scattergl": [
                      {
                        "marker": {
                          "colorbar": {
                            "outlinewidth": 0,
                            "ticks": ""
                          }
                        },
                        "type": "scattergl"
                      }
                    ],
                    "scattermapbox": [
                      {
                        "marker": {
                          "colorbar": {
                            "outlinewidth": 0,
                            "ticks": ""
                          }
                        },
                        "type": "scattermapbox"
                      }
                    ],
                    "scatterpolar": [
                      {
                        "marker": {
                          "colorbar": {
                            "outlinewidth": 0,
                            "ticks": ""
                          }
                        },
                        "type": "scatterpolar"
                      }
                    ],
                    "scatterpolargl": [
                      {
                        "marker": {
                          "colorbar": {
                            "outlinewidth": 0,
                            "ticks": ""
                          }
                        },
                        "type": "scatterpolargl"
                      }
                    ],
                    "scatterternary": [
                      {
                        "marker": {
                          "colorbar": {
                            "outlinewidth": 0,
                            "ticks": ""
                          }
                        },
                        "type": "scatterternary"
                      }
                    ],
                    "surface": [
                      {
                        "colorbar": {
                          "outlinewidth": 0,
                          "ticks": ""
                        },
                        "colorscale": [
                          [
                            0,
                            "#0d0887"
                          ],
                          [
                            0.1111111111111111,
                            "#46039f"
                          ],
                          [
                            0.2222222222222222,
                            "#7201a8"
                          ],
                          [
                            0.3333333333333333,
                            "#9c179e"
                          ],
                          [
                            0.4444444444444444,
                            "#bd3786"
                          ],
                          [
                            0.5555555555555556,
                            "#d8576b"
                          ],
                          [
                            0.6666666666666666,
                            "#ed7953"
                          ],
                          [
                            0.7777777777777778,
                            "#fb9f3a"
                          ],
                          [
                            0.8888888888888888,
                            "#fdca26"
                          ],
                          [
                            1,
                            "#f0f921"
                          ]
                        ],
                        "type": "surface"
                      }
                    ],
                    "table": [
                      {
                        "cells": {
                          "fill": {
                            "color": "#EBF0F8"
                          },
                          "line": {
                            "color": "white"
                          }
                        },
                        "header": {
                          "fill": {
                            "color": "#C8D4E3"
                          },
                          "line": {
                            "color": "white"
                          }
                        },
                        "type": "table"
                      }
                    ]
                  },
                  "layout": {
                    "annotationdefaults": {
                      "arrowcolor": "#2a3f5f",
                      "arrowhead": 0,
                      "arrowwidth": 1
                    },
                    "autotypenumbers": "strict",
                    "coloraxis": {
                      "colorbar": {
                        "outlinewidth": 0,
                        "ticks": ""
                      }
                    },
                    "colorscale": {
                      "diverging": [
                        [
                          0,
                          "#8e0152"
                        ],
                        [
                          0.1,
                          "#c51b7d"
                        ],
                        [
                          0.2,
                          "#de77ae"
                        ],
                        [
                          0.3,
                          "#f1b6da"
                        ],
                        [
                          0.4,
                          "#fde0ef"
                        ],
                        [
                          0.5,
                          "#f7f7f7"
                        ],
                        [
                          0.6,
                          "#e6f5d0"
                        ],
                        [
                          0.7,
                          "#b8e186"
                        ],
                        [
                          0.8,
                          "#7fbc41"
                        ],
                        [
                          0.9,
                          "#4d9221"
                        ],
                        [
                          1,
                          "#276419"
                        ]
                      ],
                      "sequential": [
                        [
                          0,
                          "#0d0887"
                        ],
                        [
                          0.1111111111111111,
                          "#46039f"
                        ],
                        [
                          0.2222222222222222,
                          "#7201a8"
                        ],
                        [
                          0.3333333333333333,
                          "#9c179e"
                        ],
                        [
                          0.4444444444444444,
                          "#bd3786"
                        ],
                        [
                          0.5555555555555556,
                          "#d8576b"
                        ],
                        [
                          0.6666666666666666,
                          "#ed7953"
                        ],
                        [
                          0.7777777777777778,
                          "#fb9f3a"
                        ],
                        [
                          0.8888888888888888,
                          "#fdca26"
                        ],
                        [
                          1,
                          "#f0f921"
                        ]
                      ],
                      "sequentialminus": [
                        [
                          0,
                          "#0d0887"
                        ],
                        [
                          0.1111111111111111,
                          "#46039f"
                        ],
                        [
                          0.2222222222222222,
                          "#7201a8"
                        ],
                        [
                          0.3333333333333333,
                          "#9c179e"
                        ],
                        [
                          0.4444444444444444,
                          "#bd3786"
                        ],
                        [
                          0.5555555555555556,
                          "#d8576b"
                        ],
                        [
                          0.6666666666666666,
                          "#ed7953"
                        ],
                        [
                          0.7777777777777778,
                          "#fb9f3a"
                        ],
                        [
                          0.8888888888888888,
                          "#fdca26"
                        ],
                        [
                          1,
                          "#f0f921"
                        ]
                      ]
                    },
                    "colorway": [
                      "#636efa",
                      "#EF553B",
                      "#00cc96",
                      "#ab63fa",
                      "#FFA15A",
                      "#19d3f3",
                      "#FF6692",
                      "#B6E880",
                      "#FF97FF",
                      "#FECB52"
                    ],
                    "font": {
                      "color": "#2a3f5f"
                    },
                    "geo": {
                      "bgcolor": "white",
                      "lakecolor": "white",
                      "landcolor": "#E5ECF6",
                      "showlakes": true,
                      "showland": true,
                      "subunitcolor": "white"
                    },
                    "hoverlabel": {
                      "align": "left"
                    },
                    "hovermode": "closest",
                    "mapbox": {
                      "style": "light"
                    },
                    "paper_bgcolor": "white",
                    "plot_bgcolor": "#E5ECF6",
                    "polar": {
                      "angularaxis": {
                        "gridcolor": "white",
                        "linecolor": "white",
                        "ticks": ""
                      },
                      "bgcolor": "#E5ECF6",
                      "radialaxis": {
                        "gridcolor": "white",
                        "linecolor": "white",
                        "ticks": ""
                      }
                    },
                    "scene": {
                      "xaxis": {
                        "backgroundcolor": "#E5ECF6",
                        "gridcolor": "white",
                        "gridwidth": 2,
                        "linecolor": "white",
                        "showbackground": true,
                        "ticks": "",
                        "zerolinecolor": "white"
                      },
                      "yaxis": {
                        "backgroundcolor": "#E5ECF6",
                        "gridcolor": "white",
                        "gridwidth": 2,
                        "linecolor": "white",
                        "showbackground": true,
                        "ticks": "",
                        "zerolinecolor": "white"
                      },
                      "zaxis": {
                        "backgroundcolor": "#E5ECF6",
                        "gridcolor": "white",
                        "gridwidth": 2,
                        "linecolor": "white",
                        "showbackground": true,
                        "ticks": "",
                        "zerolinecolor": "white"
                      }
                    },
                    "shapedefaults": {
                      "line": {
                        "color": "#2a3f5f"
                      }
                    },
                    "ternary": {
                      "aaxis": {
                        "gridcolor": "white",
                        "linecolor": "white",
                        "ticks": ""
                      },
                      "baxis": {
                        "gridcolor": "white",
                        "linecolor": "white",
                        "ticks": ""
                      },
                      "bgcolor": "#E5ECF6",
                      "caxis": {
                        "gridcolor": "white",
                        "linecolor": "white",
                        "ticks": ""
                      }
                    },
                    "title": {
                      "x": 0.05
                    },
                    "xaxis": {
                      "automargin": true,
                      "gridcolor": "white",
                      "linecolor": "white",
                      "ticks": "",
                      "title": {
                        "standoff": 15
                      },
                      "zerolinecolor": "white",
                      "zerolinewidth": 2
                    },
                    "yaxis": {
                      "automargin": true,
                      "gridcolor": "white",
                      "linecolor": "white",
                      "ticks": "",
                      "title": {
                        "standoff": 15
                      },
                      "zerolinecolor": "white",
                      "zerolinewidth": 2
                    }
                  }
                },
                "title": {
                  "text": "Top Ventas por Cantón"
                },
                "width": 700,
                "xaxis": {
                  "anchor": "y",
                  "domain": [
                    0,
                    1
                  ],
                  "title": {
                    "text": "CANTON"
                  }
                },
                "yaxis": {
                  "anchor": "x",
                  "domain": [
                    0,
                    1
                  ],
                  "title": {
                    "text": "Total Ventas"
                  }
                }
              }
            }
          },
          "metadata": {},
          "output_type": "display_data"
        }
      ],
      "source": [
        "graph_base('Sierra')"
      ]
    },
    {
      "cell_type": "code",
      "execution_count": 23,
      "metadata": {},
      "outputs": [],
      "source": [
        "def graph_base_buy(region):\n",
        "\n",
        "    compras_por_region = df.groupby('CANTON')[['COMPRAS_NETAS_TARIFA_12', 'COMPRAS_NETAS_TARIFA_0']].sum()\n",
        "\n",
        "    df_region_compras = df[df[\"region\"] == region]\n",
        "\n",
        "    df_region_compras= df_region_compras.groupby('CANTON')[['COMPRAS_NETAS_TARIFA_12', 'COMPRAS_NETAS_TARIFA_0']].sum()\n",
        "\n",
        "    top_canton_compras = df_region_compras.nlargest(10, 'COMPRAS_NETAS_TARIFA_12').index.union(\n",
        "        df_region_compras.nlargest(10, 'COMPRAS_NETAS_TARIFA_0').index\n",
        "    )\n",
        "    top_compras = compras_por_region.loc[top_canton_compras]\n",
        "\n",
        "    top_compras['TOTAL_COMRPAS'] = top_compras['COMPRAS_NETAS_TARIFA_12'] + top_compras['COMPRAS_NETAS_TARIFA_0']\n",
        "    top_compras = top_compras.sort_values(by='TOTAL_COMRPAS', ascending=False)\n",
        "    top_compras = top_compras.drop(columns='TOTAL_COMRPAS')\n",
        "\n",
        "    fig = px.bar(top_compras.reset_index(), \n",
        "                 x=\"CANTON\", \n",
        "                 y=['COMPRAS_NETAS_TARIFA_12', 'COMPRAS_NETAS_TARIFA_0'],\n",
        "                 barmode='group',\n",
        "                 title='Top Compras por Cantón',\n",
        "                 labels={'y': 'Total Compras'},)\n",
        "\n",
        "    fig.update_layout(yaxis_title='Total Compras',\n",
        "                    width=700, height=500,\n",
        "                    legend_title_text='', # Título de la leyenda \n",
        "                      legend=dict( orientation='h', # Orientación horizontal \n",
        "                                  yanchor='bottom', # Ancla vertical en la parte inferior \n",
        "                                  y=1.02, # Posición vertical (justo encima del gráfico) \n",
        "                                  xanchor='center', # Ancla horizontal en el centro \n",
        "                                  x=0.5, # Posición horizontal centrada \n",
        "                                  ) )\n",
        "    return fig"
      ]
    },
    {
      "cell_type": "code",
      "execution_count": 24,
      "metadata": {},
      "outputs": [
        {
          "data": {
            "application/vnd.plotly.v1+json": {
              "config": {
                "plotlyServerURL": "https://plot.ly"
              },
              "data": [
                {
                  "alignmentgroup": "True",
                  "hovertemplate": "variable=COMPRAS_NETAS_TARIFA_12<br>CANTON=%{x}<br>value=%{y}<extra></extra>",
                  "legendgroup": "COMPRAS_NETAS_TARIFA_12",
                  "marker": {
                    "color": "#636efa",
                    "pattern": {
                      "shape": ""
                    }
                  },
                  "name": "COMPRAS_NETAS_TARIFA_12",
                  "offsetgroup": "COMPRAS_NETAS_TARIFA_12",
                  "orientation": "v",
                  "showlegend": true,
                  "textposition": "auto",
                  "type": "bar",
                  "x": [
                    "QUITO",
                    "CUENCA",
                    "RUMIÑAHUI",
                    "SANTO DOMINGO",
                    "AMBATO",
                    "LOJA",
                    "RIOBAMBA",
                    "LATACUNGA",
                    "IBARRA",
                    "MEJIA",
                    "CAYAMBE"
                  ],
                  "xaxis": "x",
                  "y": [
                    19013811385.4,
                    2382531582.14,
                    1073238642.55,
                    933378801.98,
                    1040515772.49,
                    464845311.01,
                    392938858.78999996,
                    342993354.57,
                    369839356.8,
                    169232861.48,
                    143142893.71
                  ],
                  "yaxis": "y"
                },
                {
                  "alignmentgroup": "True",
                  "hovertemplate": "variable=COMPRAS_NETAS_TARIFA_0<br>CANTON=%{x}<br>value=%{y}<extra></extra>",
                  "legendgroup": "COMPRAS_NETAS_TARIFA_0",
                  "marker": {
                    "color": "#EF553B",
                    "pattern": {
                      "shape": ""
                    }
                  },
                  "name": "COMPRAS_NETAS_TARIFA_0",
                  "offsetgroup": "COMPRAS_NETAS_TARIFA_0",
                  "orientation": "v",
                  "showlegend": true,
                  "textposition": "auto",
                  "type": "bar",
                  "x": [
                    "QUITO",
                    "CUENCA",
                    "RUMIÑAHUI",
                    "SANTO DOMINGO",
                    "AMBATO",
                    "LOJA",
                    "RIOBAMBA",
                    "LATACUNGA",
                    "IBARRA",
                    "MEJIA",
                    "CAYAMBE"
                  ],
                  "xaxis": "x",
                  "y": [
                    7752833912.57,
                    880237169.54,
                    820568324.87,
                    699726046.15,
                    470763711.2,
                    260603547,
                    286513694.59,
                    332728341.05,
                    260300398.23,
                    167180893.05,
                    192177289.87
                  ],
                  "yaxis": "y"
                }
              ],
              "layout": {
                "barmode": "group",
                "height": 500,
                "legend": {
                  "orientation": "h",
                  "title": {
                    "text": ""
                  },
                  "tracegroupgap": 0,
                  "x": 0.5,
                  "xanchor": "center",
                  "y": 1.02,
                  "yanchor": "bottom"
                },
                "template": {
                  "data": {
                    "bar": [
                      {
                        "error_x": {
                          "color": "#2a3f5f"
                        },
                        "error_y": {
                          "color": "#2a3f5f"
                        },
                        "marker": {
                          "line": {
                            "color": "#E5ECF6",
                            "width": 0.5
                          },
                          "pattern": {
                            "fillmode": "overlay",
                            "size": 10,
                            "solidity": 0.2
                          }
                        },
                        "type": "bar"
                      }
                    ],
                    "barpolar": [
                      {
                        "marker": {
                          "line": {
                            "color": "#E5ECF6",
                            "width": 0.5
                          },
                          "pattern": {
                            "fillmode": "overlay",
                            "size": 10,
                            "solidity": 0.2
                          }
                        },
                        "type": "barpolar"
                      }
                    ],
                    "carpet": [
                      {
                        "aaxis": {
                          "endlinecolor": "#2a3f5f",
                          "gridcolor": "white",
                          "linecolor": "white",
                          "minorgridcolor": "white",
                          "startlinecolor": "#2a3f5f"
                        },
                        "baxis": {
                          "endlinecolor": "#2a3f5f",
                          "gridcolor": "white",
                          "linecolor": "white",
                          "minorgridcolor": "white",
                          "startlinecolor": "#2a3f5f"
                        },
                        "type": "carpet"
                      }
                    ],
                    "choropleth": [
                      {
                        "colorbar": {
                          "outlinewidth": 0,
                          "ticks": ""
                        },
                        "type": "choropleth"
                      }
                    ],
                    "contour": [
                      {
                        "colorbar": {
                          "outlinewidth": 0,
                          "ticks": ""
                        },
                        "colorscale": [
                          [
                            0,
                            "#0d0887"
                          ],
                          [
                            0.1111111111111111,
                            "#46039f"
                          ],
                          [
                            0.2222222222222222,
                            "#7201a8"
                          ],
                          [
                            0.3333333333333333,
                            "#9c179e"
                          ],
                          [
                            0.4444444444444444,
                            "#bd3786"
                          ],
                          [
                            0.5555555555555556,
                            "#d8576b"
                          ],
                          [
                            0.6666666666666666,
                            "#ed7953"
                          ],
                          [
                            0.7777777777777778,
                            "#fb9f3a"
                          ],
                          [
                            0.8888888888888888,
                            "#fdca26"
                          ],
                          [
                            1,
                            "#f0f921"
                          ]
                        ],
                        "type": "contour"
                      }
                    ],
                    "contourcarpet": [
                      {
                        "colorbar": {
                          "outlinewidth": 0,
                          "ticks": ""
                        },
                        "type": "contourcarpet"
                      }
                    ],
                    "heatmap": [
                      {
                        "colorbar": {
                          "outlinewidth": 0,
                          "ticks": ""
                        },
                        "colorscale": [
                          [
                            0,
                            "#0d0887"
                          ],
                          [
                            0.1111111111111111,
                            "#46039f"
                          ],
                          [
                            0.2222222222222222,
                            "#7201a8"
                          ],
                          [
                            0.3333333333333333,
                            "#9c179e"
                          ],
                          [
                            0.4444444444444444,
                            "#bd3786"
                          ],
                          [
                            0.5555555555555556,
                            "#d8576b"
                          ],
                          [
                            0.6666666666666666,
                            "#ed7953"
                          ],
                          [
                            0.7777777777777778,
                            "#fb9f3a"
                          ],
                          [
                            0.8888888888888888,
                            "#fdca26"
                          ],
                          [
                            1,
                            "#f0f921"
                          ]
                        ],
                        "type": "heatmap"
                      }
                    ],
                    "heatmapgl": [
                      {
                        "colorbar": {
                          "outlinewidth": 0,
                          "ticks": ""
                        },
                        "colorscale": [
                          [
                            0,
                            "#0d0887"
                          ],
                          [
                            0.1111111111111111,
                            "#46039f"
                          ],
                          [
                            0.2222222222222222,
                            "#7201a8"
                          ],
                          [
                            0.3333333333333333,
                            "#9c179e"
                          ],
                          [
                            0.4444444444444444,
                            "#bd3786"
                          ],
                          [
                            0.5555555555555556,
                            "#d8576b"
                          ],
                          [
                            0.6666666666666666,
                            "#ed7953"
                          ],
                          [
                            0.7777777777777778,
                            "#fb9f3a"
                          ],
                          [
                            0.8888888888888888,
                            "#fdca26"
                          ],
                          [
                            1,
                            "#f0f921"
                          ]
                        ],
                        "type": "heatmapgl"
                      }
                    ],
                    "histogram": [
                      {
                        "marker": {
                          "pattern": {
                            "fillmode": "overlay",
                            "size": 10,
                            "solidity": 0.2
                          }
                        },
                        "type": "histogram"
                      }
                    ],
                    "histogram2d": [
                      {
                        "colorbar": {
                          "outlinewidth": 0,
                          "ticks": ""
                        },
                        "colorscale": [
                          [
                            0,
                            "#0d0887"
                          ],
                          [
                            0.1111111111111111,
                            "#46039f"
                          ],
                          [
                            0.2222222222222222,
                            "#7201a8"
                          ],
                          [
                            0.3333333333333333,
                            "#9c179e"
                          ],
                          [
                            0.4444444444444444,
                            "#bd3786"
                          ],
                          [
                            0.5555555555555556,
                            "#d8576b"
                          ],
                          [
                            0.6666666666666666,
                            "#ed7953"
                          ],
                          [
                            0.7777777777777778,
                            "#fb9f3a"
                          ],
                          [
                            0.8888888888888888,
                            "#fdca26"
                          ],
                          [
                            1,
                            "#f0f921"
                          ]
                        ],
                        "type": "histogram2d"
                      }
                    ],
                    "histogram2dcontour": [
                      {
                        "colorbar": {
                          "outlinewidth": 0,
                          "ticks": ""
                        },
                        "colorscale": [
                          [
                            0,
                            "#0d0887"
                          ],
                          [
                            0.1111111111111111,
                            "#46039f"
                          ],
                          [
                            0.2222222222222222,
                            "#7201a8"
                          ],
                          [
                            0.3333333333333333,
                            "#9c179e"
                          ],
                          [
                            0.4444444444444444,
                            "#bd3786"
                          ],
                          [
                            0.5555555555555556,
                            "#d8576b"
                          ],
                          [
                            0.6666666666666666,
                            "#ed7953"
                          ],
                          [
                            0.7777777777777778,
                            "#fb9f3a"
                          ],
                          [
                            0.8888888888888888,
                            "#fdca26"
                          ],
                          [
                            1,
                            "#f0f921"
                          ]
                        ],
                        "type": "histogram2dcontour"
                      }
                    ],
                    "mesh3d": [
                      {
                        "colorbar": {
                          "outlinewidth": 0,
                          "ticks": ""
                        },
                        "type": "mesh3d"
                      }
                    ],
                    "parcoords": [
                      {
                        "line": {
                          "colorbar": {
                            "outlinewidth": 0,
                            "ticks": ""
                          }
                        },
                        "type": "parcoords"
                      }
                    ],
                    "pie": [
                      {
                        "automargin": true,
                        "type": "pie"
                      }
                    ],
                    "scatter": [
                      {
                        "fillpattern": {
                          "fillmode": "overlay",
                          "size": 10,
                          "solidity": 0.2
                        },
                        "type": "scatter"
                      }
                    ],
                    "scatter3d": [
                      {
                        "line": {
                          "colorbar": {
                            "outlinewidth": 0,
                            "ticks": ""
                          }
                        },
                        "marker": {
                          "colorbar": {
                            "outlinewidth": 0,
                            "ticks": ""
                          }
                        },
                        "type": "scatter3d"
                      }
                    ],
                    "scattercarpet": [
                      {
                        "marker": {
                          "colorbar": {
                            "outlinewidth": 0,
                            "ticks": ""
                          }
                        },
                        "type": "scattercarpet"
                      }
                    ],
                    "scattergeo": [
                      {
                        "marker": {
                          "colorbar": {
                            "outlinewidth": 0,
                            "ticks": ""
                          }
                        },
                        "type": "scattergeo"
                      }
                    ],
                    "scattergl": [
                      {
                        "marker": {
                          "colorbar": {
                            "outlinewidth": 0,
                            "ticks": ""
                          }
                        },
                        "type": "scattergl"
                      }
                    ],
                    "scattermapbox": [
                      {
                        "marker": {
                          "colorbar": {
                            "outlinewidth": 0,
                            "ticks": ""
                          }
                        },
                        "type": "scattermapbox"
                      }
                    ],
                    "scatterpolar": [
                      {
                        "marker": {
                          "colorbar": {
                            "outlinewidth": 0,
                            "ticks": ""
                          }
                        },
                        "type": "scatterpolar"
                      }
                    ],
                    "scatterpolargl": [
                      {
                        "marker": {
                          "colorbar": {
                            "outlinewidth": 0,
                            "ticks": ""
                          }
                        },
                        "type": "scatterpolargl"
                      }
                    ],
                    "scatterternary": [
                      {
                        "marker": {
                          "colorbar": {
                            "outlinewidth": 0,
                            "ticks": ""
                          }
                        },
                        "type": "scatterternary"
                      }
                    ],
                    "surface": [
                      {
                        "colorbar": {
                          "outlinewidth": 0,
                          "ticks": ""
                        },
                        "colorscale": [
                          [
                            0,
                            "#0d0887"
                          ],
                          [
                            0.1111111111111111,
                            "#46039f"
                          ],
                          [
                            0.2222222222222222,
                            "#7201a8"
                          ],
                          [
                            0.3333333333333333,
                            "#9c179e"
                          ],
                          [
                            0.4444444444444444,
                            "#bd3786"
                          ],
                          [
                            0.5555555555555556,
                            "#d8576b"
                          ],
                          [
                            0.6666666666666666,
                            "#ed7953"
                          ],
                          [
                            0.7777777777777778,
                            "#fb9f3a"
                          ],
                          [
                            0.8888888888888888,
                            "#fdca26"
                          ],
                          [
                            1,
                            "#f0f921"
                          ]
                        ],
                        "type": "surface"
                      }
                    ],
                    "table": [
                      {
                        "cells": {
                          "fill": {
                            "color": "#EBF0F8"
                          },
                          "line": {
                            "color": "white"
                          }
                        },
                        "header": {
                          "fill": {
                            "color": "#C8D4E3"
                          },
                          "line": {
                            "color": "white"
                          }
                        },
                        "type": "table"
                      }
                    ]
                  },
                  "layout": {
                    "annotationdefaults": {
                      "arrowcolor": "#2a3f5f",
                      "arrowhead": 0,
                      "arrowwidth": 1
                    },
                    "autotypenumbers": "strict",
                    "coloraxis": {
                      "colorbar": {
                        "outlinewidth": 0,
                        "ticks": ""
                      }
                    },
                    "colorscale": {
                      "diverging": [
                        [
                          0,
                          "#8e0152"
                        ],
                        [
                          0.1,
                          "#c51b7d"
                        ],
                        [
                          0.2,
                          "#de77ae"
                        ],
                        [
                          0.3,
                          "#f1b6da"
                        ],
                        [
                          0.4,
                          "#fde0ef"
                        ],
                        [
                          0.5,
                          "#f7f7f7"
                        ],
                        [
                          0.6,
                          "#e6f5d0"
                        ],
                        [
                          0.7,
                          "#b8e186"
                        ],
                        [
                          0.8,
                          "#7fbc41"
                        ],
                        [
                          0.9,
                          "#4d9221"
                        ],
                        [
                          1,
                          "#276419"
                        ]
                      ],
                      "sequential": [
                        [
                          0,
                          "#0d0887"
                        ],
                        [
                          0.1111111111111111,
                          "#46039f"
                        ],
                        [
                          0.2222222222222222,
                          "#7201a8"
                        ],
                        [
                          0.3333333333333333,
                          "#9c179e"
                        ],
                        [
                          0.4444444444444444,
                          "#bd3786"
                        ],
                        [
                          0.5555555555555556,
                          "#d8576b"
                        ],
                        [
                          0.6666666666666666,
                          "#ed7953"
                        ],
                        [
                          0.7777777777777778,
                          "#fb9f3a"
                        ],
                        [
                          0.8888888888888888,
                          "#fdca26"
                        ],
                        [
                          1,
                          "#f0f921"
                        ]
                      ],
                      "sequentialminus": [
                        [
                          0,
                          "#0d0887"
                        ],
                        [
                          0.1111111111111111,
                          "#46039f"
                        ],
                        [
                          0.2222222222222222,
                          "#7201a8"
                        ],
                        [
                          0.3333333333333333,
                          "#9c179e"
                        ],
                        [
                          0.4444444444444444,
                          "#bd3786"
                        ],
                        [
                          0.5555555555555556,
                          "#d8576b"
                        ],
                        [
                          0.6666666666666666,
                          "#ed7953"
                        ],
                        [
                          0.7777777777777778,
                          "#fb9f3a"
                        ],
                        [
                          0.8888888888888888,
                          "#fdca26"
                        ],
                        [
                          1,
                          "#f0f921"
                        ]
                      ]
                    },
                    "colorway": [
                      "#636efa",
                      "#EF553B",
                      "#00cc96",
                      "#ab63fa",
                      "#FFA15A",
                      "#19d3f3",
                      "#FF6692",
                      "#B6E880",
                      "#FF97FF",
                      "#FECB52"
                    ],
                    "font": {
                      "color": "#2a3f5f"
                    },
                    "geo": {
                      "bgcolor": "white",
                      "lakecolor": "white",
                      "landcolor": "#E5ECF6",
                      "showlakes": true,
                      "showland": true,
                      "subunitcolor": "white"
                    },
                    "hoverlabel": {
                      "align": "left"
                    },
                    "hovermode": "closest",
                    "mapbox": {
                      "style": "light"
                    },
                    "paper_bgcolor": "white",
                    "plot_bgcolor": "#E5ECF6",
                    "polar": {
                      "angularaxis": {
                        "gridcolor": "white",
                        "linecolor": "white",
                        "ticks": ""
                      },
                      "bgcolor": "#E5ECF6",
                      "radialaxis": {
                        "gridcolor": "white",
                        "linecolor": "white",
                        "ticks": ""
                      }
                    },
                    "scene": {
                      "xaxis": {
                        "backgroundcolor": "#E5ECF6",
                        "gridcolor": "white",
                        "gridwidth": 2,
                        "linecolor": "white",
                        "showbackground": true,
                        "ticks": "",
                        "zerolinecolor": "white"
                      },
                      "yaxis": {
                        "backgroundcolor": "#E5ECF6",
                        "gridcolor": "white",
                        "gridwidth": 2,
                        "linecolor": "white",
                        "showbackground": true,
                        "ticks": "",
                        "zerolinecolor": "white"
                      },
                      "zaxis": {
                        "backgroundcolor": "#E5ECF6",
                        "gridcolor": "white",
                        "gridwidth": 2,
                        "linecolor": "white",
                        "showbackground": true,
                        "ticks": "",
                        "zerolinecolor": "white"
                      }
                    },
                    "shapedefaults": {
                      "line": {
                        "color": "#2a3f5f"
                      }
                    },
                    "ternary": {
                      "aaxis": {
                        "gridcolor": "white",
                        "linecolor": "white",
                        "ticks": ""
                      },
                      "baxis": {
                        "gridcolor": "white",
                        "linecolor": "white",
                        "ticks": ""
                      },
                      "bgcolor": "#E5ECF6",
                      "caxis": {
                        "gridcolor": "white",
                        "linecolor": "white",
                        "ticks": ""
                      }
                    },
                    "title": {
                      "x": 0.05
                    },
                    "xaxis": {
                      "automargin": true,
                      "gridcolor": "white",
                      "linecolor": "white",
                      "ticks": "",
                      "title": {
                        "standoff": 15
                      },
                      "zerolinecolor": "white",
                      "zerolinewidth": 2
                    },
                    "yaxis": {
                      "automargin": true,
                      "gridcolor": "white",
                      "linecolor": "white",
                      "ticks": "",
                      "title": {
                        "standoff": 15
                      },
                      "zerolinecolor": "white",
                      "zerolinewidth": 2
                    }
                  }
                },
                "title": {
                  "text": "Top Compras por Cantón"
                },
                "width": 700,
                "xaxis": {
                  "anchor": "y",
                  "domain": [
                    0,
                    1
                  ],
                  "title": {
                    "text": "CANTON"
                  }
                },
                "yaxis": {
                  "anchor": "x",
                  "domain": [
                    0,
                    1
                  ],
                  "title": {
                    "text": "Total Compras"
                  }
                }
              }
            }
          },
          "metadata": {},
          "output_type": "display_data"
        }
      ],
      "source": [
        "#graph_base('Sierra')\n",
        "graph_base_buy('Sierra')"
      ]
    },
    {
      "cell_type": "code",
      "execution_count": 25,
      "metadata": {},
      "outputs": [],
      "source": [
        "def alert_empty(message_empty, see):\n",
        "    mensaje_error='DEBE INGRESA VALOR EN EL CAMPO: ' + message_empty\n",
        "    return dcc.ConfirmDialog(\n",
        "                    message=mensaje_error,\n",
        "                    displayed=see\n",
        "                )\n",
        "    "
      ]
    },
    {
      "cell_type": "code",
      "execution_count": 33,
      "metadata": {
        "id": "WC--AHDxIxxA"
      },
      "outputs": [
        {
          "data": {
            "text/html": [
              "\n",
              "        <iframe\n",
              "            width=\"100%\"\n",
              "            height=\"650\"\n",
              "            src=\"http://127.0.0.1:5004/\"\n",
              "            frameborder=\"0\"\n",
              "            allowfullscreen\n",
              "            \n",
              "        ></iframe>\n",
              "        "
            ],
            "text/plain": [
              "<IPython.lib.display.IFrame at 0x124b7a1b0>"
            ]
          },
          "metadata": {},
          "output_type": "display_data"
        },
        {
          "name": "stdout",
          "output_type": "stream",
          "text": [
            "inicio\n",
            "inicio\n",
            "inicio\n",
            "inicio\n",
            "inicio\n",
            "inicio\n",
            "inicio\n",
            "inicio\n",
            "inicio\n",
            "inicio\n",
            "inicio\n",
            "inicio\n",
            "inicio\n",
            "inicio\n",
            "inicio\n",
            "inicio\n",
            "inicio\n",
            "inicio\n",
            "inicio\n",
            "inicio\n",
            "inicio\n",
            "inicio\n",
            "inicio\n",
            "despues\n",
            "{'points': [{'curveNumber': 0, 'pointNumber': 11028, 'pointIndex': 11028, 'lon': -79.90795, 'lat': -2.20584, 'hovertext': 'GUAYAS', 'bbox': {'x0': 669.6212633431448, 'x1': 671.6212633431448, 'y0': 585.404341367513, 'y1': 587.404341367513}}]}\n",
            "valor\n",
            "GUAYAS\n",
            "tipo de dato:  <class 'int'>\n",
            "ACTIVIDADES DE ATENCIÓN DE LA SALUD HUMANA Y DE ASISTENCIA SOCIAL.\n",
            "inicio\n",
            "despues\n",
            "{'points': [{'curveNumber': 0, 'pointNumber': 11028, 'pointIndex': 11028, 'lon': -79.90795, 'lat': -2.20584, 'hovertext': 'GUAYAS', 'bbox': {'x0': 669.6212633431448, 'x1': 671.6212633431448, 'y0': 585.404341367513, 'y1': 587.404341367513}}]}\n",
            "valor\n",
            "GUAYAS\n",
            "tipo de dato:  <class 'int'>\n",
            "ACTIVIDADES DE ATENCIÓN DE LA SALUD HUMANA Y DE ASISTENCIA SOCIAL.\n",
            "        AÑO  MES PROVINCIA       CANTON  VENTAS_NETAS_TARIFA_12  \\\n",
            "23891  2024    2    GUAYAS    GUAYAQUIL              9241026.31   \n",
            "17342  2024    2    GUAYAS  SAMBORONDON               337993.49   \n",
            "17091  2024    2    GUAYAS        DAULE               178624.61   \n",
            "7338   2024    2    GUAYAS        DURAN                45400.11   \n",
            "25538  2024    2    GUAYAS      MILAGRO                55652.39   \n",
            "\n",
            "       VENTAS_NETAS_TARIFA_0  EXPORTACIONES  COMPRAS_NETAS_TARIFA_12  \\\n",
            "23891            61579836.26       11835.25              45672464.32   \n",
            "17342             3678733.62           0.00               1029344.02   \n",
            "17091             1275712.86           0.00                930522.53   \n",
            "7338               778189.22           0.00                399746.71   \n",
            "25538              361110.30           0.00                674420.84   \n",
            "\n",
            "       COMPRAS_NETAS_TARIFA_0  IMPORTACIONES  ...  BASE_IMPONIBLE_VENTAS  \\\n",
            "23891             25245734.53       66580.91  ...           8.250916e+06   \n",
            "17342              1584385.90         317.05  ...           3.017799e+05   \n",
            "17091               683962.28           0.00  ...           1.594863e+05   \n",
            "7338                341399.04           0.00  ...           4.053581e+04   \n",
            "25538               375116.24        2350.69  ...           4.968963e+04   \n",
            "\n",
            "       IMPUESTO_VENTAS  BASE_IMPONIBLE_COMPRAS  IMPUESTO_COMPRAS  \\\n",
            "23891    990109.961786            4.077899e+07      4.893478e+06   \n",
            "17342     36213.588214            9.190572e+05      1.102869e+05   \n",
            "17091     19138.351071            8.308237e+05      9.969884e+04   \n",
            "7338       4864.297500            3.569167e+05      4.283000e+04   \n",
            "25538      5962.756071            6.021615e+05      7.225938e+04   \n",
            "\n",
            "       COD_PROVINCIA  longitud  latitud  habitantes  region  \\\n",
            "23891             10 -79.90795 -2.20584     3645483   Costa   \n",
            "17342             10 -79.90795 -2.20584     3645483   Costa   \n",
            "17091             10 -79.90795 -2.20584     3645483   Costa   \n",
            "7338              10 -79.90795 -2.20584     3645483   Costa   \n",
            "25538             10 -79.90795 -2.20584     3645483   Costa   \n",
            "\n",
            "                                             descripcion  \n",
            "23891  ACTIVIDADES DE ATENCIÓN DE LA SALUD HUMANA Y D...  \n",
            "17342  ACTIVIDADES DE ATENCIÓN DE LA SALUD HUMANA Y D...  \n",
            "17091  ACTIVIDADES DE ATENCIÓN DE LA SALUD HUMANA Y D...  \n",
            "7338   ACTIVIDADES DE ATENCIÓN DE LA SALUD HUMANA Y D...  \n",
            "25538  ACTIVIDADES DE ATENCIÓN DE LA SALUD HUMANA Y D...  \n",
            "\n",
            "[5 rows x 23 columns]\n",
            "        AÑO  MES PROVINCIA       CANTON  VENTAS_NETAS_TARIFA_12  \\\n",
            "23891  2024    2    GUAYAS    GUAYAQUIL              9241026.31   \n",
            "17342  2024    2    GUAYAS  SAMBORONDON               337993.49   \n",
            "17091  2024    2    GUAYAS        DAULE               178624.61   \n",
            "25538  2024    2    GUAYAS      MILAGRO                55652.39   \n",
            "7338   2024    2    GUAYAS        DURAN                45400.11   \n",
            "\n",
            "       VENTAS_NETAS_TARIFA_0  EXPORTACIONES  COMPRAS_NETAS_TARIFA_12  \\\n",
            "23891            61579836.26       11835.25              45672464.32   \n",
            "17342             3678733.62           0.00               1029344.02   \n",
            "17091             1275712.86           0.00                930522.53   \n",
            "25538              361110.30           0.00                674420.84   \n",
            "7338               778189.22           0.00                399746.71   \n",
            "\n",
            "       COMPRAS_NETAS_TARIFA_0  IMPORTACIONES  ...  BASE_IMPONIBLE_VENTAS  \\\n",
            "23891             25245734.53       66580.91  ...           8.250916e+06   \n",
            "17342              1584385.90         317.05  ...           3.017799e+05   \n",
            "17091               683962.28           0.00  ...           1.594863e+05   \n",
            "25538               375116.24        2350.69  ...           4.968963e+04   \n",
            "7338                341399.04           0.00  ...           4.053581e+04   \n",
            "\n",
            "       IMPUESTO_VENTAS  BASE_IMPONIBLE_COMPRAS  IMPUESTO_COMPRAS  \\\n",
            "23891    990109.961786            4.077899e+07      4.893478e+06   \n",
            "17342     36213.588214            9.190572e+05      1.102869e+05   \n",
            "17091     19138.351071            8.308237e+05      9.969884e+04   \n",
            "25538      5962.756071            6.021615e+05      7.225938e+04   \n",
            "7338       4864.297500            3.569167e+05      4.283000e+04   \n",
            "\n",
            "       COD_PROVINCIA  longitud  latitud  habitantes  region  \\\n",
            "23891             10 -79.90795 -2.20584     3645483   Costa   \n",
            "17342             10 -79.90795 -2.20584     3645483   Costa   \n",
            "17091             10 -79.90795 -2.20584     3645483   Costa   \n",
            "25538             10 -79.90795 -2.20584     3645483   Costa   \n",
            "7338              10 -79.90795 -2.20584     3645483   Costa   \n",
            "\n",
            "                                             descripcion  \n",
            "23891  ACTIVIDADES DE ATENCIÓN DE LA SALUD HUMANA Y D...  \n",
            "17342  ACTIVIDADES DE ATENCIÓN DE LA SALUD HUMANA Y D...  \n",
            "17091  ACTIVIDADES DE ATENCIÓN DE LA SALUD HUMANA Y D...  \n",
            "25538  ACTIVIDADES DE ATENCIÓN DE LA SALUD HUMANA Y D...  \n",
            "7338   ACTIVIDADES DE ATENCIÓN DE LA SALUD HUMANA Y D...  \n",
            "\n",
            "[5 rows x 23 columns]\n"
          ]
        }
      ],
      "source": [
        "## Creación de dashboard\n",
        "\n",
        "external_stylesheets = [dbc.themes.BOOTSTRAP]\n",
        "app = Dash(\n",
        "    __name__,\n",
        "    meta_tags=[{\"name\": \"viewport\", \"content\":\n",
        "                \"width=device-width, initial-scale=1\"}],\n",
        "    external_stylesheets=external_stylesheets\n",
        ")\n",
        "\n",
        "contenedor = dbc.Container(fluid = True, children=[\n",
        "    html.Div([\n",
        "        dcc.Tabs([\n",
        "            dcc.Tab(label='Costa', children=[  \n",
        "                dbc.Row([\n",
        "                    header_title()\n",
        "                ]),\n",
        "                html.Div([\n",
        "                    dbc.Row([\n",
        "                        dbc.Col([\n",
        "                            html.P(\"Selecciona Mes:\", className=\"text-center\"),\n",
        "                        ], md=1),\n",
        "                        dbc.Col([\n",
        "                            dcc.Dropdown(meses_anio, id=\"dropdown_1\"),\n",
        "                        ], md= 1),\n",
        "                        dbc.Col([\n",
        "                            html.P(\"Selecciona Actividad Económica:\", className=\"text-center\"),\n",
        "                        ], md= 2),\n",
        "                        dbc.Col([\n",
        "                            dcc.Dropdown(descripcion_actividad_ec, id=\"dropdown_2\"),\n",
        "                        ], md= 8),\n",
        "                    ]),\n",
        "                ]),\n",
        "                html.Div([\n",
        "                    dbc.Row([\n",
        "                    html.H3(\"Mapa del Ecuador \", className=\"text-center\")\n",
        "                    ]),\n",
        "                    dbc.Row([\n",
        "                        dbc.Col([\n",
        "                            dcc.Graph(\n",
        "                                id=\"grafico_costa\",\n",
        "                                figure=map_ecuator('Costa'),\n",
        "                            ),\n",
        "                        ]),\n",
        "                    ]),\n",
        "                ]),\n",
        "                html.Div(id=\"div_costa\", \n",
        "                    children=[\n",
        "                        dbc.Row([\n",
        "                            dbc.Col([\n",
        "                                    dcc.Graph(\n",
        "                                        id=\"grafico_costa_ventas\",\n",
        "                                        figure=graph_base('Costa'),\n",
        "                                    ),\n",
        "                                ], md = 6),\n",
        "                            dbc.Col([\n",
        "                                dcc.Graph(\n",
        "                                id=\"grafico_costa_compras\",\n",
        "                                figure=graph_base_buy('Costa'),\n",
        "                                ),\n",
        "                            ], md = 6),\n",
        "                        ]),\n",
        "                ], style={'marginBottom': 10, 'marginTop': 10}),\n",
        "                html.Div([\n",
        "                     dbc.Row([\n",
        "                            dbc.Col([\n",
        "                                dcc.Graph(\n",
        "                                    figure=tax_month(),\n",
        "                                ),\n",
        "                            ],width={\"size\": 6, \"offset\": 3}),\n",
        "                     ]),\n",
        "                ], style={'marginBottom': 10,'justify-content': 'center', 'align-items': 'center'})\n",
        "\n",
        "            ]),\n",
        "            dcc.Tab(label='Sierra', children=[\n",
        "                dbc.Row([\n",
        "                    header_title()\n",
        "                ]),\n",
        "                html.Div([\n",
        "                    dbc.Row([\n",
        "                        dbc.Col([\n",
        "                            html.P(\"Selecciona Mes:\", className=\"text-center\"),\n",
        "                        ], md=1),\n",
        "                        dbc.Col([\n",
        "                            dcc.Dropdown(meses_anio, id=\"dropdown_3\"),\n",
        "                        ], md= 1),\n",
        "                        dbc.Col([\n",
        "                            html.P(\"Selecciona Actividad Económica:\", className=\"text-center\"),\n",
        "                        ], md= 2),\n",
        "                        dbc.Col([\n",
        "                            dcc.Dropdown(descripcion_actividad_ec, id=\"dropdown_4\"),\n",
        "                        ], md= 8),\n",
        "                    ]),\n",
        "                ]),\n",
        "                html.Div([\n",
        "                    dbc.Row([\n",
        "                        dbc.Row([\n",
        "                            html.H3(\"Mapa del Ecuador \", className=\"text-center\")\n",
        "                        ]),\n",
        "                        dbc.Col([\n",
        "                            dcc.Graph(\n",
        "                                id=\"grafico_sierra\",\n",
        "                                figure=map_ecuator('Sierra'),\n",
        "                            ),\n",
        "                        ])\n",
        "                    ])\n",
        "                ]),\n",
        "                html.Div(id=\"div_sierra\", \n",
        "                    children=[\n",
        "                        dbc.Row([\n",
        "                            dbc.Col([\n",
        "                                    dcc.Graph(\n",
        "                                        id=\"grafico_sierra_ventas\",\n",
        "                                        figure=graph_base('Sierra'),\n",
        "                                    ),\n",
        "                            ], md = 6),\n",
        "                            dbc.Col([\n",
        "                                dcc.Graph(\n",
        "                                id=\"grafico_sierra_compras\",\n",
        "                                figure=graph_base_buy('Sierra'),\n",
        "                                ),\n",
        "                            ], md = 6),\n",
        "                        ]),\n",
        "                       \n",
        "                ], style={'marginBottom': 10, 'marginTop': 10}),\n",
        "                html.Div([\n",
        "                    dbc.Row([\n",
        "                            dbc.Col([\n",
        "                                dcc.Graph(\n",
        "                                    figure=tax_month(),\n",
        "                                ),\n",
        "                            ],width={\"size\": 6, \"offset\": 3}),\n",
        "                     ]),\n",
        "                ], style={'marginBottom': 10,'justify-content': 'center', 'align-items': 'center'})\n",
        "\n",
        "            ]),\n",
        "            dcc.Tab(label='Amazonía', children=[\n",
        "                dbc.Row([\n",
        "                    header_title()\n",
        "                ]),\n",
        "                html.Div([\n",
        "                    dbc.Row([\n",
        "                        dbc.Col([\n",
        "                            html.P(\"Selecciona Mes:\", className=\"text-center\"),\n",
        "                        ], md=1),\n",
        "                        dbc.Col([\n",
        "                            dcc.Dropdown(meses_anio, id=\"dropdown_5\"),\n",
        "                        ], md= 1),\n",
        "                        dbc.Col([\n",
        "                            html.P(\"Selecciona Actividad Económica:\", className=\"text-center\"),\n",
        "                        ], md= 2),\n",
        "                        dbc.Col([\n",
        "                            dcc.Dropdown(descripcion_actividad_ec, id=\"dropdown_6\"),\n",
        "                        ], md= 8),\n",
        "                    ]),\n",
        "                ]),\n",
        "\n",
        "                html.Div([\n",
        "                    dbc.Row([\n",
        "                        dbc.Col([\n",
        "                            dbc.Row([\n",
        "                                html.H3(\"Mapa del Ecuador \", className=\"text-center\")\n",
        "                            ]),\n",
        "                            dcc.Graph(\n",
        "                                id=\"grafico_amazonia\",\n",
        "                                figure=map_ecuator('Amazonía'),\n",
        "                            ),\n",
        "                        ]),\n",
        "                    ]),\n",
        "                ]),\n",
        "                html.Div(id=\"div_amazonia\", \n",
        "                    children=[\n",
        "                        dbc.Row([\n",
        "                            dbc.Col([\n",
        "                                dcc.Graph(\n",
        "                                    id=\"grafico_amazonia_ventas\",\n",
        "                                    figure=graph_base('Amazonía'),\n",
        "                                ),\n",
        "                            ], md = 6),\n",
        "                            dbc.Col([\n",
        "                                dcc.Graph(\n",
        "                                id=\"grafico_amazonia_compras\",\n",
        "                                figure=graph_base_buy('Amazonía'),\n",
        "                                ),\n",
        "                            ], md = 6),\n",
        "                        ]),\n",
        "                       \n",
        "                ], style={'marginBottom': 10, 'marginTop': 10}),\n",
        "                html.Div([\n",
        "                     dbc.Row([\n",
        "                            dbc.Col([\n",
        "                                dcc.Graph(\n",
        "                                    figure=tax_month(),\n",
        "                                ),\n",
        "                            ],width={\"size\": 6, \"offset\": 3}),\n",
        "                     ]),\n",
        "                ], style={'marginBottom': 10})\n",
        "\n",
        "            ]),\n",
        "        ])\n",
        "    ])\n",
        "])\n",
        "\n",
        "# CALLBACKS PARA COSTA\n",
        "@app.callback(\n",
        "    Output(\"grafico_costa_ventas\", \"figure\"), \n",
        "    [Input(\"grafico_costa\", \"clickData\"),\n",
        "     Input(\"dropdown_1\", \"value\"),\n",
        "     Input(\"dropdown_2\", \"value\")]\n",
        ")\n",
        "def ventas_salida_costa(clickData, mes, act_ec):\n",
        "\n",
        "    entra = 'N'\n",
        "\n",
        "    triggered_id = ctx.triggered_id\n",
        "\n",
        "    print('inicio')\n",
        "\n",
        "    if (triggered_id == \"grafico_costa\"):\n",
        "\n",
        "        print('despues')\n",
        "\n",
        "        print(clickData)\n",
        "\n",
        "        valor_provincia = clickData[\"points\"][0]['hovertext']\n",
        "\n",
        "        print('valor')\n",
        "\n",
        "        print(valor_provincia)\n",
        "        print('tipo de dato: ', type(mes))\n",
        "        print(act_ec)\n",
        "\n",
        "        if act_ec is not None:\n",
        "\n",
        "            df_costa_ventas = df[df[\"descripcion\"] == act_ec]\n",
        "\n",
        "        if valor_provincia is not None:\n",
        "            df_costa_ventas = df_costa_ventas[df_costa_ventas['PROVINCIA'] == valor_provincia]\n",
        "\n",
        "        if mes is not None:\n",
        "\n",
        "            df_costa_ventas = df_costa_ventas[df_costa_ventas[\"MES\"] == mes]\n",
        "\n",
        "        df_costa_ventas= df_costa_ventas.sort_values(by='TOTAL_VENTAS', ascending=False).head(5)\n",
        "\n",
        "        print(df_costa_ventas)\n",
        "\n",
        "        fig = px.bar(df_costa_ventas, x=\"CANTON\", y=['VENTAS_NETAS_TARIFA_12','VENTAS_NETAS_TARIFA_0'], \n",
        "        barmode=\"group\",\n",
        "                 title='Top Ventas por Cantón',\n",
        "                 labels={'y': 'Total Ventas'},)\n",
        "    \n",
        "        fig.update_layout(yaxis_title='Total Ventas',\n",
        "                    width=700, height=500,\n",
        "                    legend_title_text='', # Título de la leyenda \n",
        "                      legend=dict( orientation='h', # Orientación horizontal \n",
        "                                  yanchor='bottom', # Ancla vertical en la parte inferior \n",
        "                                  y=1.02, # Posición vertical (justo encima del gráfico) \n",
        "                                  xanchor='center', # Ancla horizontal en el centro \n",
        "                                  x=0.5, # Posición horizontal centrada \n",
        "                                  ) )\n",
        "        entra = 'S'\n",
        "\n",
        "    if entra == 'N':\n",
        "        fig = graph_base('Costa')\n",
        "        \n",
        "    return fig\n",
        "\n",
        "\n",
        "@app.callback(\n",
        "    Output(\"grafico_costa_compras\", \"figure\"), \n",
        "    [Input(\"grafico_costa\", \"clickData\"),\n",
        "     Input(\"dropdown_1\", \"value\"),\n",
        "     Input(\"dropdown_2\", \"value\")]\n",
        ")\n",
        "def compras_salida_costa(clickData, mes, act_ec):\n",
        "\n",
        "    entra = 'N'\n",
        "    \n",
        "    triggered_id = ctx.triggered_id\n",
        "\n",
        "    print('inicio')\n",
        "\n",
        "    if (triggered_id == \"grafico_costa\"):\n",
        "\n",
        "        if act_ec is None:\n",
        "            dbc.Alert(\"ERROR: DEBE ESCOGER UNA ACTIVIDAD ECONOMICA\", color=\"danger\"),\n",
        "            fig = graph_base_buy('Costa')\n",
        "            return fig\n",
        "        \n",
        "        if mes is None:\n",
        "            dbc.Alert(\"ERROR: DEBE ESCOGER UNO DE LOS MESES PRESENTADOS\", color=\"danger\"),\n",
        "            fig = graph_base_buy('Costa')\n",
        "            return fig\n",
        "\n",
        "        print('despues')\n",
        "\n",
        "        print(clickData)\n",
        "\n",
        "        valor_provincia = clickData[\"points\"][0]['hovertext']\n",
        "\n",
        "        print('valor')\n",
        "\n",
        "        print(valor_provincia)\n",
        "        print('tipo de dato: ', type(mes))\n",
        "        print(act_ec)\n",
        "\n",
        "        if act_ec is not None:\n",
        "\n",
        "            df_costa_compras = df[df[\"descripcion\"] == act_ec]\n",
        "\n",
        "        if mes is not None:\n",
        "\n",
        "            df_costa_compras = df_costa_compras[df_costa_compras[\"MES\"] == mes]\n",
        "\n",
        "        if valor_provincia is not None:\n",
        "            df_costa_compras = df_costa_compras[df_costa_compras['PROVINCIA'] == valor_provincia]\n",
        "\n",
        "        df_costa_compras= df_costa_compras.sort_values(by='TOTAL_COMPRAS', ascending=False).head(5)\n",
        "\n",
        "        print(df_costa_compras)\n",
        "\n",
        "        fig = px.bar(df_costa_compras, x=\"CANTON\", y=['COMPRAS_NETAS_TARIFA_12','COMPRAS_NETAS_TARIFA_0'], \n",
        "        barmode=\"group\",\n",
        "                 title='Top Compras por Cantón',\n",
        "                 labels={'y': 'Total Compras'},)\n",
        "\n",
        "        fig.update_layout(yaxis_title='Total Compras',\n",
        "                    width=700, height=500,\n",
        "                    legend_title_text='', # Título de la leyenda \n",
        "                      legend=dict( orientation='h', # Orientación horizontal \n",
        "                                  yanchor='bottom', # Ancla vertical en la parte inferior \n",
        "                                  y=1.02, # Posición vertical (justo encima del gráfico) \n",
        "                                  xanchor='center', # Ancla horizontal en el centro \n",
        "                                  x=0.5, # Posición horizontal centrada \n",
        "                                  ) )\n",
        "        entra = 'S'\n",
        "\n",
        "    if entra == 'N':\n",
        "        fig = graph_base_buy('Costa')\n",
        "        \n",
        "    return fig\n",
        "    \n",
        "# CALLBACKS PARA SIERRA\n",
        "## VENTAS\n",
        "@app.callback(\n",
        "    Output(\"grafico_sierra_ventas\", \"figure\"), \n",
        "    [Input(\"grafico_sierra\", \"clickData\"),\n",
        "     Input(\"dropdown_3\", \"value\"),\n",
        "     Input(\"dropdown_4\", \"value\")]\n",
        ")\n",
        "def ventas_salida_sierra(clickData, mes, act_ec):\n",
        "\n",
        "    entra_s = 'N'\n",
        "    \n",
        "    triggered_id = ctx.triggered_id\n",
        "\n",
        "    print('inicio')\n",
        "\n",
        "    if (triggered_id == \"grafico_sierra\"):\n",
        "\n",
        "        print('despues')\n",
        "\n",
        "        print(clickData)\n",
        "\n",
        "        valor_provincia = clickData[\"points\"][0]['hovertext']\n",
        "\n",
        "        print('valor')\n",
        "\n",
        "        print(valor_provincia)\n",
        "        print('tipo de dato: ', type(mes))\n",
        "        print(act_ec)\n",
        "\n",
        "        if act_ec is not None:\n",
        "\n",
        "            df_costa_ventas = df[df[\"descripcion\"] == act_ec]\n",
        "\n",
        "        if mes is not None:\n",
        "\n",
        "            df_costa_ventas = df_costa_ventas[df_costa_ventas[\"MES\"] == mes]\n",
        "\n",
        "        if valor_provincia is not None:\n",
        "            df_costa_ventas = df_costa_ventas[df_costa_ventas['PROVINCIA'] == valor_provincia]\n",
        "\n",
        "        df_costa_ventas= df_costa_ventas.sort_values(by='TOTAL_VENTAS', ascending=False).head(5)\n",
        "\n",
        "        print(df_costa_ventas)\n",
        "\n",
        "        fig = px.bar(df_costa_ventas, x=\"CANTON\", y=['VENTAS_NETAS_TARIFA_12','VENTAS_NETAS_TARIFA_0'], \n",
        "        barmode=\"group\",\n",
        "                 title='Top Ventas por Cantón',\n",
        "                 labels={'y': 'Total Ventas'},)\n",
        "    \n",
        "        fig.update_layout(yaxis_title='Total Ventas',\n",
        "                    width=700, height=500,\n",
        "                    legend_title_text='', # Título de la leyenda \n",
        "                      legend=dict( orientation='h', # Orientación horizontal \n",
        "                                  yanchor='bottom', # Ancla vertical en la parte inferior \n",
        "                                  y=1.02, # Posición vertical (justo encima del gráfico) \n",
        "                                  xanchor='center', # Ancla horizontal en el centro \n",
        "                                  x=0.5, # Posición horizontal centrada \n",
        "                                  ) )\n",
        "        entra_s = 'S'\n",
        "\n",
        "    if entra_s == 'N':\n",
        "        fig = graph_base('Sierra')\n",
        "        \n",
        "    return fig\n",
        "\n",
        "## COMPRAS\n",
        "@app.callback(\n",
        "    Output(\"grafico_sierra_compras\", \"figure\"), \n",
        "    [Input(\"grafico_sierra\", \"clickData\"),\n",
        "     Input(\"dropdown_3\", \"value\"),\n",
        "     Input(\"dropdown_4\", \"value\")]\n",
        ")\n",
        "def compras_salida_sierra(clickData, mes, act_ec):\n",
        "\n",
        "    entra_s = 'N'\n",
        "    \n",
        "    triggered_id = ctx.triggered_id\n",
        "\n",
        "    print('inicio')\n",
        "\n",
        "    if (triggered_id == \"grafico_sierra\"):\n",
        "\n",
        "        print('despues')\n",
        "\n",
        "        print(clickData)\n",
        "\n",
        "        valor_provincia = clickData[\"points\"][0]['hovertext']\n",
        "\n",
        "        print('valor')\n",
        "\n",
        "        print(valor_provincia)\n",
        "        print('tipo de dato: ', type(mes))\n",
        "        print(act_ec)\n",
        "\n",
        "        if act_ec is not None:\n",
        "\n",
        "            df_costa_ventas = df[df[\"descripcion\"] == act_ec]\n",
        "\n",
        "        if mes is not None:\n",
        "\n",
        "            df_costa_ventas = df_costa_ventas[df_costa_ventas[\"MES\"] == mes]\n",
        "\n",
        "        if valor_provincia is not None:\n",
        "            df_costa_ventas = df_costa_ventas[df_costa_ventas['PROVINCIA'] == valor_provincia]\n",
        "\n",
        "        df_costa_ventas= df_costa_ventas.sort_values(by='TOTAL_COMPRAS', ascending=False).head(5)\n",
        "\n",
        "        print(df_costa_ventas)\n",
        "\n",
        "        fig = px.bar(df_costa_ventas, x=\"CANTON\", y=['COMPRAS_NETAS_TARIFA_12','COMPRAS_NETAS_TARIFA_0'], \n",
        "        barmode=\"group\",\n",
        "                 title='Top Compras por Cantón',\n",
        "                 labels={'y': 'Total Compras'},)\n",
        "    \n",
        "        fig.update_layout(yaxis_title='Total Compras',\n",
        "                    width=700, height=500,\n",
        "                    legend_title_text='', # Título de la leyenda \n",
        "                      legend=dict( orientation='h', # Orientación horizontal \n",
        "                                  yanchor='bottom', # Ancla vertical en la parte inferior \n",
        "                                  y=1.02, # Posición vertical (justo encima del gráfico) \n",
        "                                  xanchor='center', # Ancla horizontal en el centro \n",
        "                                  x=0.5, # Posición horizontal centrada \n",
        "                                  ) )\n",
        "        entra_s = 'S'\n",
        "\n",
        "    if entra_s == 'N':\n",
        "        fig = graph_base_buy('Sierra')\n",
        "        \n",
        "    return fig\n",
        "\n",
        "\n",
        "# CALLBACKS PARA AMAZONIA\n",
        "## VENTAS\n",
        "@app.callback(\n",
        "    Output(\"grafico_amazonia_ventas\", \"figure\"), \n",
        "    [Input(\"grafico_amazonia\", \"clickData\"),\n",
        "     Input(\"dropdown_5\", \"value\"),\n",
        "     Input(\"dropdown_6\", \"value\")]\n",
        ")\n",
        "def ventas_salida_sierra(clickData, mes, act_ec):\n",
        "\n",
        "    entra_s = 'N'\n",
        "    \n",
        "    triggered_id = ctx.triggered_id\n",
        "\n",
        "    print('inicio')\n",
        "\n",
        "    if (triggered_id == \"grafico_amazonia\"):\n",
        "\n",
        "        print('despues')\n",
        "\n",
        "        print(clickData)\n",
        "\n",
        "        valor_provincia = clickData[\"points\"][0]['hovertext']\n",
        "\n",
        "        print('valor')\n",
        "\n",
        "        print(valor_provincia)\n",
        "        print('tipo de dato: ', type(mes))\n",
        "        print(act_ec)\n",
        "\n",
        "        if act_ec is not None:\n",
        "\n",
        "            df_costa_ventas = df[df[\"descripcion\"] == act_ec]\n",
        "\n",
        "        if mes is not None:\n",
        "\n",
        "            df_costa_ventas = df_costa_ventas[df_costa_ventas[\"MES\"] == mes]\n",
        "\n",
        "        if valor_provincia is not None:\n",
        "            df_costa_ventas = df_costa_ventas[df_costa_ventas['PROVINCIA'] == valor_provincia]\n",
        "\n",
        "        df_costa_ventas= df_costa_ventas.sort_values(by='TOTAL_VENTAS', ascending=False).head(5)\n",
        "\n",
        "        print(df_costa_ventas)\n",
        "\n",
        "        fig = px.bar(df_costa_ventas, x=\"CANTON\", y=['VENTAS_NETAS_TARIFA_12','VENTAS_NETAS_TARIFA_0'], \n",
        "        barmode=\"group\",\n",
        "                 title='Top Ventas por Cantón',\n",
        "                 labels={'y': 'Total Ventas'},)\n",
        "    \n",
        "        fig.update_layout(yaxis_title='Total Ventas',\n",
        "                    width=700, height=500,\n",
        "                    legend_title_text='', # Título de la leyenda \n",
        "                      legend=dict( orientation='h', # Orientación horizontal \n",
        "                                  yanchor='bottom', # Ancla vertical en la parte inferior \n",
        "                                  y=1.02, # Posición vertical (justo encima del gráfico) \n",
        "                                  xanchor='center', # Ancla horizontal en el centro \n",
        "                                  x=0.5, # Posición horizontal centrada \n",
        "                                  ) )\n",
        "        entra_s = 'S'\n",
        "\n",
        "    if entra_s == 'N':\n",
        "        fig = graph_base('Amazonía')\n",
        "        \n",
        "    return fig\n",
        "\n",
        "## COMPRAS\n",
        "@app.callback(\n",
        "    Output(\"grafico_amazonia_compras\", \"figure\"), \n",
        "    [Input(\"grafico_amazonia\", \"clickData\"),\n",
        "     Input(\"dropdown_5\", \"value\"),\n",
        "     Input(\"dropdown_6\", \"value\")]\n",
        ")\n",
        "def compras_salida_sierra(clickData, mes, act_ec):\n",
        "\n",
        "    entra_s = 'N'\n",
        "    \n",
        "    triggered_id = ctx.triggered_id\n",
        "\n",
        "    print('inicio')\n",
        "\n",
        "    if (triggered_id == \"grafico_amazonia\"):\n",
        "\n",
        "        print('despues')\n",
        "\n",
        "        print(clickData)\n",
        "\n",
        "        valor_provincia = clickData[\"points\"][0]['hovertext']\n",
        "\n",
        "        print('valor')\n",
        "\n",
        "        print(valor_provincia)\n",
        "        print('tipo de dato: ', type(mes))\n",
        "        print(act_ec)\n",
        "\n",
        "        if act_ec is not None:\n",
        "\n",
        "            df_costa_ventas = df[df[\"descripcion\"] == act_ec]\n",
        "\n",
        "        if mes is not None:\n",
        "\n",
        "            df_costa_ventas = df_costa_ventas[df_costa_ventas[\"MES\"] == mes]\n",
        "\n",
        "        if valor_provincia is not None:\n",
        "            df_costa_ventas = df_costa_ventas[df_costa_ventas['PROVINCIA'] == valor_provincia]\n",
        "\n",
        "        df_costa_ventas= df_costa_ventas.sort_values(by='TOTAL_COMPRAS', ascending=False).head(5)\n",
        "\n",
        "        print(df_costa_ventas)\n",
        "\n",
        "        fig = px.bar(df_costa_ventas, x=\"CANTON\", y=['COMPRAS_NETAS_TARIFA_12','COMPRAS_NETAS_TARIFA_0'], \n",
        "        barmode=\"group\",\n",
        "                 title='Top Compras por Cantón',\n",
        "                 labels={'y': 'Total Compras'},)\n",
        "    \n",
        "        fig.update_layout(yaxis_title='Total Compras',\n",
        "                    width=700, height=500,\n",
        "                    legend_title_text='', # Título de la leyenda \n",
        "                      legend=dict( orientation='h', # Orientación horizontal \n",
        "                                  yanchor='bottom', # Ancla vertical en la parte inferior \n",
        "                                  y=1.02, # Posición vertical (justo encima del gráfico) \n",
        "                                  xanchor='center', # Ancla horizontal en el centro \n",
        "                                  x=0.5, # Posición horizontal centrada \n",
        "                                  ) )\n",
        "        entra_s = 'S'\n",
        "\n",
        "    if entra_s == 'N':\n",
        "        fig = graph_base_buy('Amazonía')\n",
        "        \n",
        "    return fig\n",
        "\n",
        "\n",
        "app.layout = html.Div(contenedor)\n",
        "\n",
        "if __name__ == '__main__':\n",
        "    app.run(debug=True, port=5004)\n"
      ]
    }
  ],
  "metadata": {
    "colab": {
      "provenance": []
    },
    "kernelspec": {
      "display_name": "venv",
      "language": "python",
      "name": "python3"
    },
    "language_info": {
      "codemirror_mode": {
        "name": "ipython",
        "version": 3
      },
      "file_extension": ".py",
      "mimetype": "text/x-python",
      "name": "python",
      "nbconvert_exporter": "python",
      "pygments_lexer": "ipython3",
      "version": "3.12.4"
    }
  },
  "nbformat": 4,
  "nbformat_minor": 0
}
